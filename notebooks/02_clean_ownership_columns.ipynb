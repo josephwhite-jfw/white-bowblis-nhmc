{
 "cells": [
  {
   "cell_type": "code",
   "execution_count": 1,
   "id": "cae1c271-e824-4e70-8b66-42f73b01557c",
   "metadata": {},
   "outputs": [],
   "source": [
    "# ------------------------------------------------------------------------------\n",
    "# 1.  Project-wide paths (portable)\n",
    "# ------------------------------------------------------------------------------\n",
    "\n",
    "import os, re, shutil, zipfile, pandas as pd\n",
    "from pathlib import Path\n",
    "from tqdm.auto import tqdm\n",
    "\n",
    "PROJECT_ROOT = Path.cwd()\n",
    "while not (PROJECT_ROOT / \"src\").is_dir() and PROJECT_ROOT != PROJECT_ROOT.parent:\n",
    "    PROJECT_ROOT = PROJECT_ROOT.parent\n",
    "\n",
    "RAW_DIR      = Path(os.getenv(\"NH_DATA_DIR\",  PROJECT_ROOT / \"data\" / \"raw\"))\n",
    "OWN_DIR      = RAW_DIR / \"ownership-files\"\n",
    "INTERIM_DIR  = PROJECT_ROOT / \"data\" / \"interim\"\n",
    "\n",
    "OWN_DIR.mkdir(parents=True, exist_ok=True)\n",
    "INTERIM_DIR.mkdir(parents=True, exist_ok=True)"
   ]
  },
  {
   "cell_type": "code",
   "execution_count": 2,
   "id": "78a8db02-a722-4b1d-ac9a-11527647ce81",
   "metadata": {},
   "outputs": [
    {
     "name": "stdout",
     "output_type": "stream",
     "text": [
      "\n",
      "STEP 0  raw → 15,916,207 rows\n"
     ]
    }
   ],
   "source": [
    "# 2.  Load raw CSV ─────────────────────────────────────────────────────\n",
    "csv_path = RAW_DIR / \"ownership-files\" / \"ownership_combined.csv\"\n",
    "\n",
    "dtype_map = {\"cms_certification_number\": \"string\"}      # keep leading zeros\n",
    "df = pd.read_csv(\n",
    "    csv_path,\n",
    "    dtype=dtype_map,\n",
    "    parse_dates=[\"processing_date\"],                    # ISO format\n",
    "    low_memory=False\n",
    ")\n",
    "\n",
    "# parse two messy date columns\n",
    "def parse_assoc(col: pd.Series) -> pd.Series:\n",
    "    stripped = col.str.replace(r\"^\\s*since\\s*\", \"\", regex=True, case=False)\n",
    "    return pd.to_datetime(stripped, format=\"%m/%d/%Y\", errors=\"coerce\")\n",
    "\n",
    "df[\"association_date\"] = parse_assoc(df[\"association_date\"])\n",
    "df[\"date\"]             = pd.to_datetime(df[\"date\"], errors=\"coerce\")\n",
    "\n",
    "print(f\"\\nSTEP 0  raw → {len(df):,} rows\")"
   ]
  },
  {
   "cell_type": "code",
   "execution_count": 3,
   "id": "8b5875b3-ec9a-4ecf-aac4-882d1c78c4ae",
   "metadata": {},
   "outputs": [
    {
     "name": "stdout",
     "output_type": "stream",
     "text": [
      "\n",
      "--- BASIC INFO -------------------------------------------------------\n",
      "<class 'pandas.core.frame.DataFrame'>\n",
      "RangeIndex: 15916207 entries, 0 to 15916206\n",
      "Data columns (total 12 columns):\n",
      " #   Column                    Non-Null Count     Dtype         \n",
      "---  ------                    --------------     -----         \n",
      " 0   cms_certification_number  15916207 non-null  string        \n",
      " 1   provider_name             15916202 non-null  object        \n",
      " 2   role                      15916207 non-null  object        \n",
      " 3   owner_type                15843474 non-null  object        \n",
      " 4   owner_name                15843474 non-null  object        \n",
      " 5   ownership_percentage      15843474 non-null  object        \n",
      " 6   association_date          15841244 non-null  datetime64[ns]\n",
      " 7   processing_date           15916207 non-null  datetime64[ns]\n",
      " 8   source_file               15916207 non-null  object        \n",
      " 9   month                     15916207 non-null  int64         \n",
      " 10  year                      15916207 non-null  int64         \n",
      " 11  date                      15916207 non-null  datetime64[ns]\n",
      "dtypes: datetime64[ns](3), int64(2), object(6), string(1)\n",
      "memory usage: 1.4+ GB\n",
      "None\n",
      "\n",
      "--- NULL % by column --------------------------------------------------\n"
     ]
    },
    {
     "data": {
      "text/html": [
       "<div>\n",
       "<style scoped>\n",
       "    .dataframe tbody tr th:only-of-type {\n",
       "        vertical-align: middle;\n",
       "    }\n",
       "\n",
       "    .dataframe tbody tr th {\n",
       "        vertical-align: top;\n",
       "    }\n",
       "\n",
       "    .dataframe thead th {\n",
       "        text-align: right;\n",
       "    }\n",
       "</style>\n",
       "<table border=\"1\" class=\"dataframe\">\n",
       "  <thead>\n",
       "    <tr style=\"text-align: right;\">\n",
       "      <th></th>\n",
       "      <th>cms_certification_number</th>\n",
       "      <th>provider_name</th>\n",
       "      <th>role</th>\n",
       "      <th>processing_date</th>\n",
       "      <th>source_file</th>\n",
       "      <th>month</th>\n",
       "      <th>year</th>\n",
       "      <th>date</th>\n",
       "      <th>owner_type</th>\n",
       "      <th>owner_name</th>\n",
       "      <th>ownership_percentage</th>\n",
       "      <th>association_date</th>\n",
       "    </tr>\n",
       "  </thead>\n",
       "  <tbody>\n",
       "    <tr>\n",
       "      <th>percent_null</th>\n",
       "      <td>0.0</td>\n",
       "      <td>0.0</td>\n",
       "      <td>0.0</td>\n",
       "      <td>0.0</td>\n",
       "      <td>0.0</td>\n",
       "      <td>0.0</td>\n",
       "      <td>0.0</td>\n",
       "      <td>0.0</td>\n",
       "      <td>0.5</td>\n",
       "      <td>0.5</td>\n",
       "      <td>0.5</td>\n",
       "      <td>0.5</td>\n",
       "    </tr>\n",
       "  </tbody>\n",
       "</table>\n",
       "</div>"
      ],
      "text/plain": [
       "              cms_certification_number  provider_name  role  processing_date  \\\n",
       "percent_null                       0.0            0.0   0.0              0.0   \n",
       "\n",
       "              source_file  month  year  date  owner_type  owner_name  \\\n",
       "percent_null          0.0    0.0   0.0   0.0         0.5         0.5   \n",
       "\n",
       "              ownership_percentage  association_date  \n",
       "percent_null                   0.5               0.5  "
      ]
     },
     "metadata": {},
     "output_type": "display_data"
    },
    {
     "name": "stdout",
     "output_type": "stream",
     "text": [
      "\n",
      "--- DATE RANGE --------------------------------------------------------\n",
      "association_date: 1942-01-01 00:00:00 → 2025-07-01 00:00:00\n",
      "processing_date : 2017-01-01 00:00:00 → 2025-07-01 00:00:00\n",
      "\n",
      "--- UNIQUE PROVIDERS & OWNERS ----------------------------------------\n",
      "# unique CCNs      : 16402\n",
      "# unique providers : 24104\n",
      "# unique owners    : 94347\n",
      "\n",
      "--- TOP 10 ROLE VALUES -----------------------------------------------\n"
     ]
    },
    {
     "data": {
      "text/plain": [
       "role\n",
       "DIRECTOR                                     3287371\n",
       "5% OR GREATER INDIRECT OWNERSHIP INTEREST    2910876\n",
       "OFFICER                                      2789665\n",
       "5% OR GREATER DIRECT OWNERSHIP INTEREST      2157271\n",
       "OPERATIONAL/MANAGERIAL CONTROL               2005393\n",
       "MANAGING EMPLOYEE                            1971404\n",
       "CORPORATE DIRECTOR                            203809\n",
       "CORPORATE OFFICER                             178971\n",
       "PARTNERSHIP INTEREST                          149723\n",
       "5% OR GREATER SECURITY INTEREST                96978\n",
       "Name: count, dtype: int64"
      ]
     },
     "metadata": {},
     "output_type": "display_data"
    }
   ],
   "source": [
    "# 2.a Quick structure / quality overview ──────────────────────────────\n",
    "print(\"\\n--- BASIC INFO -------------------------------------------------------\")\n",
    "print(df.info(show_counts=True))\n",
    "\n",
    "print(\"\\n--- NULL % by column --------------------------------------------------\")\n",
    "null_pct = df.isna().mean().mul(100).round(1).sort_values()\n",
    "display(null_pct.to_frame(\"percent_null\").T)\n",
    "\n",
    "print(\"\\n--- DATE RANGE --------------------------------------------------------\")\n",
    "print(\"association_date:\", df[\"association_date\"].min(), \"→\", df[\"association_date\"].max())\n",
    "print(\"processing_date :\", df[\"processing_date\"].min(),  \"→\", df[\"processing_date\"].max())\n",
    "\n",
    "print(\"\\n--- UNIQUE PROVIDERS & OWNERS ----------------------------------------\")\n",
    "print(\"# unique CCNs      :\", df[\"cms_certification_number\"].nunique(dropna=True))\n",
    "print(\"# unique providers :\", df[\"provider_name\"].nunique(dropna=True))\n",
    "print(\"# unique owners    :\", df[\"owner_name\"].nunique(dropna=True))\n",
    "\n",
    "print(\"\\n--- TOP 10 ROLE VALUES -----------------------------------------------\")\n",
    "display(df[\"role\"].value_counts(dropna=False).head(10))"
   ]
  },
  {
   "cell_type": "code",
   "execution_count": 4,
   "id": "cf77c722-6258-491f-8ad5-ef29bd2a4c64",
   "metadata": {},
   "outputs": [
    {
     "name": "stdout",
     "output_type": "stream",
     "text": [
      "\n",
      "STEP 1  role-filter → 5,220,005 rows\n"
     ]
    }
   ],
   "source": [
    "# 3. Keep only the roles of interest (plus NaNs) ───────────────────────\n",
    "target_roles = [\n",
    "    \"5% OR GREATER DIRECT OWNERSHIP INTEREST\",\n",
    "    \"5% OR GREATER INDIRECT OWNERSHIP INTEREST\",\n",
    "    \"PARTNERSHIP INTEREST\",\n",
    "]\n",
    "role_regex = re.compile(\"|\".join(map(re.escape, target_roles)), flags=re.IGNORECASE)\n",
    "\n",
    "mask_roles = df[\"role\"].fillna(\"\").str.contains(role_regex)\n",
    "df = df[mask_roles | df[\"role\"].isna()].copy()\n",
    "print(f\"\\nSTEP 1  role-filter → {len(df):,} rows\")"
   ]
  },
  {
   "cell_type": "code",
   "execution_count": 5,
   "id": "4cd02a0c-5631-43c9-87fc-e77dbff9f870",
   "metadata": {},
   "outputs": [
    {
     "name": "stdout",
     "output_type": "stream",
     "text": [
      "STEP 2  de-dup      → 165,339 rows\n"
     ]
    }
   ],
   "source": [
    "# 4. De-duplicate identical ownership snapshots ───────────────────────\n",
    "dedup_cols = [\n",
    "    \"cms_certification_number\", \"provider_name\",\n",
    "    \"role\", \"owner_type\", \"owner_name\",\n",
    "    \"ownership_percentage\", \"association_date\"\n",
    "]\n",
    "df = (\n",
    "    df.sort_values(\"processing_date\")          # oldest → newest\n",
    "      .drop_duplicates(subset=dedup_cols, keep=\"last\")\n",
    "      .reset_index(drop=True)\n",
    ")\n",
    "print(f\"STEP 2  de-dup      → {len(df):,} rows\")"
   ]
  },
  {
   "cell_type": "code",
   "execution_count": 6,
   "id": "8c78356f-fe01-47ae-a22f-29cfa77f8446",
   "metadata": {},
   "outputs": [
    {
     "name": "stdout",
     "output_type": "stream",
     "text": [
      "\n",
      "💾 Saved clean table → C:\\Repositories\\white-bowblis-nhmc\\data\\interim\\ownership_file_clean.csv\n",
      "📦 Final shape       : (165339, 12)\n"
     ]
    }
   ],
   "source": [
    "# ────────────────────────────────────────────────────────────────────────────────\n",
    "# 5.  Save clean file\n",
    "# ────────────────────────────────────────────────────────────────────────────────\n",
    "out_csv = INTERIM_DIR / \"ownership_file_clean.csv\"\n",
    "df.to_csv(out_csv, index=False)\n",
    "print(\"\\n💾 Saved clean table →\", out_csv)\n",
    "print(\"📦 Final shape       :\", df.shape)"
   ]
  },
  {
   "cell_type": "code",
   "execution_count": 2,
   "id": "c1405ded-1c7e-4443-8b17-331d78f49f70",
   "metadata": {},
   "outputs": [
    {
     "name": "stdout",
     "output_type": "stream",
     "text": [
      "[paths] NH_ZIP_DIR=C:\\Users\\Owner\\OneDrive\\NursingHomeData\\nh-compare\n",
      "[paths] OWN_DIR=C:\\Users\\Owner\\OneDrive\\NursingHomeData\\ownership-files\n"
     ]
    }
   ],
   "source": [
    "import os, re, csv, zipfile, shutil, tempfile, warnings\n",
    "from io import BytesIO\n",
    "from pathlib import Path\n",
    "\n",
    "import numpy as np\n",
    "import pandas as pd\n",
    "\n",
    "# ============================== Config / Paths ================================\n",
    "PROJECT_ROOT = Path.cwd()\n",
    "while not (PROJECT_ROOT / \"src\").is_dir() and PROJECT_ROOT != PROJECT_ROOT.parent:\n",
    "    PROJECT_ROOT = PROJECT_ROOT.parent\n",
    "\n",
    "RAW_DIR     = Path(os.getenv(\"NH_DATA_DIR\", PROJECT_ROOT / \"data\" / \"raw\"))\n",
    "NH_ZIP_DIR  = RAW_DIR / \"nh-compare\"\n",
    "OWN_DIR     = RAW_DIR / \"ownership-files\"\n",
    "OWN_DIR.mkdir(parents=True, exist_ok=True)\n",
    "\n",
    "# Behavior flags\n",
    "DRY_RUN        = False          # True = preview only\n",
    "NAME_STYLE     = \"mm_yyyy\"      # \"mm_yyyy\" or \"yyyy_mm\"\n",
    "DO_STANDARDIZE = True           # standardize in-place before combine\n",
    "DO_COMBINE     = True           # write final combined CSV\n",
    "COMBINED_CSV   = OWN_DIR / \"ownership_combined.csv\"\n",
    "\n",
    "print(f\"[paths] NH_ZIP_DIR={NH_ZIP_DIR}\")\n",
    "print(f\"[paths] OWN_DIR={OWN_DIR}\")"
   ]
  },
  {
   "cell_type": "code",
   "execution_count": 3,
   "id": "692db08f-6385-4614-a29e-8ea8afbc4192",
   "metadata": {},
   "outputs": [],
   "source": [
    "df = pd.read_csv(OWN_DIR / \"ownership_combined.csv\")"
   ]
  },
  {
   "cell_type": "code",
   "execution_count": 4,
   "id": "ca6c2a5f-264a-4b99-a6d3-cfe1ba791740",
   "metadata": {},
   "outputs": [
    {
     "name": "stdout",
     "output_type": "stream",
     "text": [
      "Shape: (5330314, 7)\n",
      "\n",
      "Columns & dtypes:\n",
      "cms_certification_number      int64\n",
      "role                         object\n",
      "owner_type                   object\n",
      "owner_name                   object\n",
      "ownership_percentage        float64\n",
      "association_date             object\n",
      "processing_date              object\n",
      "dtype: object\n",
      "\n",
      "Head:\n",
      "   cms_certification_number    role  owner_type owner_name  ownership_percentage association_date processing_date\n",
      "0                      5125  DIRECT  Individual   VO, TIEN                 100.0       2016-10-24      2019-01-01\n",
      "1                      5125  DIRECT  Individual   VO, TIEN                 100.0       2016-10-24      2020-01-01\n",
      "2                      5125  DIRECT  Individual   VO, TIEN                 100.0       2016-10-24      2019-02-01\n",
      "3                      5125  DIRECT  Individual   VO, TIEN                 100.0       2016-10-24      2020-02-01\n",
      "4                      5125  DIRECT  Individual   VO, TIEN                 100.0       2016-10-24      2019-03-01\n",
      "\n",
      "Null counts:\n",
      "cms_certification_number          0\n",
      "role                              0\n",
      "owner_type                        0\n",
      "owner_name                        0\n",
      "ownership_percentage        3223085\n",
      "association_date                  0\n",
      "processing_date                   0\n",
      "dtype: int64\n",
      "\n",
      "Unique role values: ['DIRECT' 'INDIRECT' 'PARTNERSHIP']\n",
      "\n",
      "Ownership % summary:\n",
      "count    2.107229e+06\n",
      "mean     5.572269e+01\n",
      "std      3.838828e+01\n",
      "min      5.000000e+00\n",
      "25%      1.900000e+01\n",
      "50%      5.000000e+01\n",
      "75%      1.000000e+02\n",
      "max      1.000000e+02\n",
      "Name: ownership_percentage, dtype: float64\n",
      "\n",
      "Association date range: 1943-10-23 to 2025-07-01\n",
      "Processing date range: 2017-01-01 to 2025-07-01\n",
      "\n",
      "Unique facilities (CCNs): 14075\n",
      "Unique owners: 20084\n"
     ]
    }
   ],
   "source": [
    "# Basic shape & column info\n",
    "print(\"Shape:\", df.shape)\n",
    "print(\"\\nColumns & dtypes:\")\n",
    "print(df.dtypes)\n",
    "\n",
    "# Peek at first few rows\n",
    "print(\"\\nHead:\")\n",
    "print(df.head(5).to_string())\n",
    "\n",
    "# Null counts\n",
    "print(\"\\nNull counts:\")\n",
    "print(df.isnull().sum())\n",
    "\n",
    "# Distinct roles\n",
    "print(\"\\nUnique role values:\", df['role'].unique())\n",
    "\n",
    "# Ownership percentage summary\n",
    "print(\"\\nOwnership % summary:\")\n",
    "print(df['ownership_percentage'].describe())\n",
    "\n",
    "# Date ranges\n",
    "print(\"\\nAssociation date range:\", df['association_date'].min(), \"to\", df['association_date'].max())\n",
    "print(\"Processing date range:\", df['processing_date'].min(), \"to\", df['processing_date'].max())\n",
    "\n",
    "# Count facilities (unique CCNs) and total owners\n",
    "print(\"\\nUnique facilities (CCNs):\", df['cms_certification_number'].nunique())\n",
    "print(\"Unique owners:\", df['owner_name'].nunique())"
   ]
  },
  {
   "cell_type": "code",
   "execution_count": null,
   "id": "2b24760b-33aa-4436-9573-a30fceef66ec",
   "metadata": {},
   "outputs": [],
   "source": []
  }
 ],
 "metadata": {
  "kernelspec": {
   "display_name": "Python [conda env:base] *",
   "language": "python",
   "name": "conda-base-py"
  },
  "language_info": {
   "codemirror_mode": {
    "name": "ipython",
    "version": 3
   },
   "file_extension": ".py",
   "mimetype": "text/x-python",
   "name": "python",
   "nbconvert_exporter": "python",
   "pygments_lexer": "ipython3",
   "version": "3.12.3"
  }
 },
 "nbformat": 4,
 "nbformat_minor": 5
}

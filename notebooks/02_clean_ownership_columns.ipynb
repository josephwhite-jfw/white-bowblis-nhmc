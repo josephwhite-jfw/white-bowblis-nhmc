{
 "cells": [
  {
   "cell_type": "code",
   "execution_count": 10,
   "id": "cae1c271-e824-4e70-8b66-42f73b01557c",
   "metadata": {},
   "outputs": [],
   "source": [
    "# ------------------------------------------------------------------------------\n",
    "# 1.  Project-wide paths (portable)\n",
    "# ------------------------------------------------------------------------------\n",
    "\n",
    "import os, re, shutil, zipfile, pandas as pd\n",
    "from pathlib import Path\n",
    "from tqdm.auto import tqdm\n",
    "\n",
    "PROJECT_ROOT = Path.cwd()\n",
    "while not (PROJECT_ROOT / \"src\").is_dir() and PROJECT_ROOT != PROJECT_ROOT.parent:\n",
    "    PROJECT_ROOT = PROJECT_ROOT.parent\n",
    "\n",
    "RAW_DIR      = Path(os.getenv(\"NH_DATA_DIR\",  PROJECT_ROOT / \"data\" / \"raw\"))\n",
    "OWN_DIR      = RAW_DIR / \"ownership-files\"\n",
    "INTERIM_DIR  = PROJECT_ROOT / \"data\" / \"interim\"\n",
    "\n",
    "OWN_DIR.mkdir(parents=True, exist_ok=True)\n",
    "INTERIM_DIR.mkdir(parents=True, exist_ok=True)"
   ]
  },
  {
   "cell_type": "code",
   "execution_count": 17,
   "id": "78a8db02-a722-4b1d-ac9a-11527647ce81",
   "metadata": {},
   "outputs": [
    {
     "name": "stdout",
     "output_type": "stream",
     "text": [
      "\n",
      "STEP 0  raw → 15,621,094 rows\n"
     ]
    }
   ],
   "source": [
    "# 2.  Load raw CSV ─────────────────────────────────────────────────────\n",
    "csv_path = RAW_DIR / \"ownership-files\" / \"ownership_combined.csv\"\n",
    "\n",
    "dtype_map = {\"cms_certification_number\": \"string\"}      # keep leading zeros\n",
    "df = pd.read_csv(\n",
    "    csv_path,\n",
    "    dtype=dtype_map,\n",
    "    parse_dates=[\"processing_date\"],                    # ISO format\n",
    "    low_memory=False\n",
    ")\n",
    "\n",
    "# parse two messy date columns\n",
    "def parse_assoc(col: pd.Series) -> pd.Series:\n",
    "    stripped = col.str.replace(r\"^\\s*since\\s*\", \"\", regex=True, case=False)\n",
    "    return pd.to_datetime(stripped, format=\"%m/%d/%Y\", errors=\"coerce\")\n",
    "\n",
    "df[\"association_date\"] = parse_assoc(df[\"association_date\"])\n",
    "df[\"date\"]             = pd.to_datetime(df[\"date\"], errors=\"coerce\")\n",
    "\n",
    "print(f\"\\nSTEP 0  raw → {len(df):,} rows\")"
   ]
  },
  {
   "cell_type": "code",
   "execution_count": 18,
   "id": "8b5875b3-ec9a-4ecf-aac4-882d1c78c4ae",
   "metadata": {},
   "outputs": [
    {
     "name": "stdout",
     "output_type": "stream",
     "text": [
      "\n",
      "--- BASIC INFO -------------------------------------------------------\n",
      "<class 'pandas.core.frame.DataFrame'>\n",
      "RangeIndex: 15621094 entries, 0 to 15621093\n",
      "Data columns (total 12 columns):\n",
      " #   Column                    Non-Null Count     Dtype         \n",
      "---  ------                    --------------     -----         \n",
      " 0   cms_certification_number  15306992 non-null  string        \n",
      " 1   owner_name                15549728 non-null  object        \n",
      " 2   association_date          15547537 non-null  datetime64[ns]\n",
      " 3   owner_type                15549728 non-null  object        \n",
      " 4   processing_date           15621094 non-null  datetime64[ns]\n",
      " 5   ownership_percentage      15549728 non-null  object        \n",
      " 6   role                      15621094 non-null  object        \n",
      " 7   provider_name             15621089 non-null  object        \n",
      " 8   source_file               15621094 non-null  object        \n",
      " 9   month                     15621094 non-null  int64         \n",
      " 10  year                      15621094 non-null  int64         \n",
      " 11  date                      15621094 non-null  datetime64[ns]\n",
      "dtypes: datetime64[ns](3), int64(2), object(6), string(1)\n",
      "memory usage: 1.4+ GB\n",
      "None\n",
      "\n",
      "--- NULL % by column --------------------------------------------------\n"
     ]
    },
    {
     "data": {
      "text/html": [
       "<div>\n",
       "<style scoped>\n",
       "    .dataframe tbody tr th:only-of-type {\n",
       "        vertical-align: middle;\n",
       "    }\n",
       "\n",
       "    .dataframe tbody tr th {\n",
       "        vertical-align: top;\n",
       "    }\n",
       "\n",
       "    .dataframe thead th {\n",
       "        text-align: right;\n",
       "    }\n",
       "</style>\n",
       "<table border=\"1\" class=\"dataframe\">\n",
       "  <thead>\n",
       "    <tr style=\"text-align: right;\">\n",
       "      <th></th>\n",
       "      <th>processing_date</th>\n",
       "      <th>role</th>\n",
       "      <th>provider_name</th>\n",
       "      <th>source_file</th>\n",
       "      <th>month</th>\n",
       "      <th>year</th>\n",
       "      <th>date</th>\n",
       "      <th>owner_name</th>\n",
       "      <th>association_date</th>\n",
       "      <th>owner_type</th>\n",
       "      <th>ownership_percentage</th>\n",
       "      <th>cms_certification_number</th>\n",
       "    </tr>\n",
       "  </thead>\n",
       "  <tbody>\n",
       "    <tr>\n",
       "      <th>percent_null</th>\n",
       "      <td>0.0</td>\n",
       "      <td>0.0</td>\n",
       "      <td>0.0</td>\n",
       "      <td>0.0</td>\n",
       "      <td>0.0</td>\n",
       "      <td>0.0</td>\n",
       "      <td>0.0</td>\n",
       "      <td>0.5</td>\n",
       "      <td>0.5</td>\n",
       "      <td>0.5</td>\n",
       "      <td>0.5</td>\n",
       "      <td>2.0</td>\n",
       "    </tr>\n",
       "  </tbody>\n",
       "</table>\n",
       "</div>"
      ],
      "text/plain": [
       "              processing_date  role  provider_name  source_file  month  year  \\\n",
       "percent_null              0.0   0.0            0.0          0.0    0.0   0.0   \n",
       "\n",
       "              date  owner_name  association_date  owner_type  \\\n",
       "percent_null   0.0         0.5               0.5         0.5   \n",
       "\n",
       "              ownership_percentage  cms_certification_number  \n",
       "percent_null                   0.5                       2.0  "
      ]
     },
     "metadata": {},
     "output_type": "display_data"
    },
    {
     "name": "stdout",
     "output_type": "stream",
     "text": [
      "\n",
      "--- DATE RANGE --------------------------------------------------------\n",
      "association_date: 1942-01-01 00:00:00 → 2025-05-01 00:00:00\n",
      "processing_date : 2017-01-01 00:00:00 → 2025-05-01 00:00:00\n",
      "\n",
      "--- UNIQUE PROVIDERS & OWNERS ----------------------------------------\n",
      "# unique CCNs      : 16294\n",
      "# unique providers : 23916\n",
      "# unique owners    : 91852\n",
      "\n",
      "--- TOP 10 ROLE VALUES -----------------------------------------------\n"
     ]
    },
    {
     "data": {
      "text/plain": [
       "role\n",
       "DIRECTOR                                     3287371\n",
       "5% OR GREATER INDIRECT OWNERSHIP INTEREST    2853623\n",
       "OFFICER                                      2789665\n",
       "5% OR GREATER DIRECT OWNERSHIP INTEREST      2118152\n",
       "MANAGING EMPLOYEE                            1971404\n",
       "OPERATIONAL/MANAGERIAL CONTROL               1954320\n",
       "PARTNERSHIP INTEREST                          149723\n",
       "CORPORATE DIRECTOR                            147091\n",
       "CORPORATE OFFICER                             128420\n",
       "5% OR GREATER SECURITY INTEREST                95274\n",
       "Name: count, dtype: int64"
      ]
     },
     "metadata": {},
     "output_type": "display_data"
    }
   ],
   "source": [
    "# 2.a Quick structure / quality overview ──────────────────────────────\n",
    "print(\"\\n--- BASIC INFO -------------------------------------------------------\")\n",
    "print(df.info(show_counts=True))\n",
    "\n",
    "print(\"\\n--- NULL % by column --------------------------------------------------\")\n",
    "null_pct = df.isna().mean().mul(100).round(1).sort_values()\n",
    "display(null_pct.to_frame(\"percent_null\").T)\n",
    "\n",
    "print(\"\\n--- DATE RANGE --------------------------------------------------------\")\n",
    "print(\"association_date:\", df[\"association_date\"].min(), \"→\", df[\"association_date\"].max())\n",
    "print(\"processing_date :\", df[\"processing_date\"].min(),  \"→\", df[\"processing_date\"].max())\n",
    "\n",
    "print(\"\\n--- UNIQUE PROVIDERS & OWNERS ----------------------------------------\")\n",
    "print(\"# unique CCNs      :\", df[\"cms_certification_number\"].nunique(dropna=True))\n",
    "print(\"# unique providers :\", df[\"provider_name\"].nunique(dropna=True))\n",
    "print(\"# unique owners    :\", df[\"owner_name\"].nunique(dropna=True))\n",
    "\n",
    "print(\"\\n--- TOP 10 ROLE VALUES -----------------------------------------------\")\n",
    "display(df[\"role\"].value_counts(dropna=False).head(10))"
   ]
  },
  {
   "cell_type": "code",
   "execution_count": 19,
   "id": "cf77c722-6258-491f-8ad5-ef29bd2a4c64",
   "metadata": {},
   "outputs": [
    {
     "name": "stdout",
     "output_type": "stream",
     "text": [
      "\n",
      "STEP 1  role-filter → 5,121,498 rows\n"
     ]
    }
   ],
   "source": [
    "# 3. Keep only the roles of interest (plus NaNs) ───────────────────────\n",
    "target_roles = [\n",
    "    \"5% OR GREATER DIRECT OWNERSHIP INTEREST\",\n",
    "    \"5% OR GREATER INDIRECT OWNERSHIP INTEREST\",\n",
    "    \"PARTNERSHIP INTEREST\",\n",
    "]\n",
    "role_regex = re.compile(\"|\".join(map(re.escape, target_roles)), flags=re.IGNORECASE)\n",
    "\n",
    "mask_roles = df[\"role\"].fillna(\"\").str.contains(role_regex)\n",
    "df = df[mask_roles | df[\"role\"].isna()].copy()\n",
    "print(f\"\\nSTEP 1  role-filter → {len(df):,} rows\")"
   ]
  },
  {
   "cell_type": "code",
   "execution_count": 20,
   "id": "4cd02a0c-5631-43c9-87fc-e77dbff9f870",
   "metadata": {},
   "outputs": [
    {
     "name": "stdout",
     "output_type": "stream",
     "text": [
      "STEP 2  de-dup      → 162,904 rows\n"
     ]
    }
   ],
   "source": [
    "# 4. De-duplicate identical ownership snapshots ───────────────────────\n",
    "dedup_cols = [\n",
    "    \"cms_certification_number\", \"provider_name\",\n",
    "    \"role\", \"owner_type\", \"owner_name\",\n",
    "    \"ownership_percentage\", \"association_date\"\n",
    "]\n",
    "df = (\n",
    "    df.sort_values(\"processing_date\")          # oldest → newest\n",
    "      .drop_duplicates(subset=dedup_cols, keep=\"last\")\n",
    "      .reset_index(drop=True)\n",
    ")\n",
    "print(f\"STEP 2  de-dup      → {len(df):,} rows\")"
   ]
  },
  {
   "cell_type": "code",
   "execution_count": 21,
   "id": "dcebee39-5776-4619-9311-d4e50f900893",
   "metadata": {},
   "outputs": [
    {
     "name": "stdout",
     "output_type": "stream",
     "text": [
      "🔍 CCN fill: 443 filled | 12,560 still missing\n"
     ]
    }
   ],
   "source": [
    "# 5. Fill NaN CCNs where provider name maps unambiguously ─────────────\n",
    "def fill_ccn_from_provider(df, ccn_col=\"cms_certification_number\", name_col=\"provider_name\"):\n",
    "    mapping = (\n",
    "        df.dropna(subset=[ccn_col])\n",
    "          .groupby(name_col, observed=True)[ccn_col]\n",
    "          .agg(lambda s: set(s))\n",
    "    )\n",
    "    unamb = mapping[mapping.str.len() == 1].apply(lambda s: next(iter(s)))\n",
    "    before = df[ccn_col].isna().sum()\n",
    "    df.loc[df[ccn_col].isna(), ccn_col] = df.loc[df[ccn_col].isna(), name_col].map(unamb)\n",
    "    after = df[ccn_col].isna().sum()\n",
    "    print(f\"🔍 CCN fill: {before-after:,} filled | {after:,} still missing\")\n",
    "    return df\n",
    "\n",
    "df = fill_ccn_from_provider(df)"
   ]
  },
  {
   "cell_type": "code",
   "execution_count": 22,
   "id": "8c78356f-fe01-47ae-a22f-29cfa77f8446",
   "metadata": {},
   "outputs": [
    {
     "name": "stdout",
     "output_type": "stream",
     "text": [
      "\n",
      "💾 Saved clean table → C:\\Repositories\\white_bowblis_nhmc\\data\\interim\\ownership_file_clean.csv\n",
      "📦 Final shape       : (162904, 12)\n"
     ]
    }
   ],
   "source": [
    "# ────────────────────────────────────────────────────────────────────────────────\n",
    "# 5.  Save clean file\n",
    "# ────────────────────────────────────────────────────────────────────────────────\n",
    "out_csv = INTERIM_DIR / \"ownership_file_clean.csv\"\n",
    "df.to_csv(out_csv, index=False)\n",
    "print(\"\\n💾 Saved clean table →\", out_csv)\n",
    "print(\"📦 Final shape       :\", df.shape)"
   ]
  }
 ],
 "metadata": {
  "kernelspec": {
   "display_name": "Python [conda env:base] *",
   "language": "python",
   "name": "conda-base-py"
  },
  "language_info": {
   "codemirror_mode": {
    "name": "ipython",
    "version": 3
   },
   "file_extension": ".py",
   "mimetype": "text/x-python",
   "name": "python",
   "nbconvert_exporter": "python",
   "pygments_lexer": "ipython3",
   "version": "3.12.3"
  }
 },
 "nbformat": 4,
 "nbformat_minor": 5
}

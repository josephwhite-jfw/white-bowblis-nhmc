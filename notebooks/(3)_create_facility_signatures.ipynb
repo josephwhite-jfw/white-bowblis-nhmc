{
 "cells": [
  {
   "cell_type": "code",
   "execution_count": 18,
   "id": "fa3c6575-a4ae-4325-b22b-02e93181ef32",
   "metadata": {},
   "outputs": [],
   "source": [
    "import pandas as pd\n",
    "import numpy as np\n",
    "import re\n",
    "from pathlib import Path"
   ]
  },
  {
   "cell_type": "code",
   "execution_count": 20,
   "id": "1596b4b2-e184-44fd-ba9d-6811a04ef38d",
   "metadata": {},
   "outputs": [
    {
     "name": "stdout",
     "output_type": "stream",
     "text": [
      "[load] 162,904 rows, 13 columns.\n"
     ]
    }
   ],
   "source": [
    "# ------------------------------------------------------------------\n",
    "# 1. LOAD\n",
    "# ------------------------------------------------------------------\n",
    "CLEAN_PATH = Path(r\"C:\\Users\\wrthj\\OneDrive\\Documents\\Honors_Thesis\\data\\data\\ownership_file_clean.csv\")\n",
    "OUT_DIR = CLEAN_PATH.parent\n",
    "OUT_DIR.mkdir(parents=True, exist_ok=True)\n",
    "\n",
    "df = pd.read_csv(\n",
    "    CLEAN_PATH,\n",
    "    dtype={\"cms_certification_number\": \"string\"},  # preserve leading zeros\n",
    "    low_memory=False,\n",
    ")\n",
    "print(f\"[load] {len(df):,} rows, {df.shape[1]} columns.\")"
   ]
  },
  {
   "cell_type": "code",
   "execution_count": 21,
   "id": "b703c663-77bb-485a-89ee-3a833fbcfe30",
   "metadata": {},
   "outputs": [],
   "source": [
    "# ------------------------------------------------------------------\n",
    "# 2. PARSE DATES (idempotent safe re-parse)\n",
    "# ------------------------------------------------------------------\n",
    "df[\"association_date\"] = pd.to_datetime(df[\"association_date\"], errors=\"coerce\")\n",
    "df[\"processing_date\"]  = pd.to_datetime(df.get(\"processing_date\"), errors=\"coerce\")"
   ]
  },
  {
   "cell_type": "code",
   "execution_count": 22,
   "id": "87e5506a-c1fe-4601-8d04-27e4651e25d4",
   "metadata": {},
   "outputs": [],
   "source": [
    "# ------------------------------------------------------------------\n",
    "# 3. CANONICAL PROVIDER NAME PER CCN (latest non-null name)\n",
    "# ------------------------------------------------------------------\n",
    "canon_name = (\n",
    "    df.sort_values(\"processing_date\")\n",
    "      .groupby(\"cms_certification_number\")[\"provider_name\"]\n",
    "      .agg(lambda s: s.dropna().iat[-1] if len(s.dropna()) else pd.NA)\n",
    "      .to_frame(\"provider_name\")\n",
    ")"
   ]
  },
  {
   "cell_type": "code",
   "execution_count": 23,
   "id": "3d3be52e-cd52-4b14-a1e8-babf5aafcede",
   "metadata": {},
   "outputs": [
    {
     "name": "stdout",
     "output_type": "stream",
     "text": [
      "[fac_date] grouped rows: 39,778\n"
     ]
    },
    {
     "name": "stderr",
     "output_type": "stream",
     "text": [
      "C:\\Users\\wrthj\\AppData\\Local\\Temp\\ipykernel_17020\\3109044054.py:13: DeprecationWarning: DataFrameGroupBy.apply operated on the grouping columns. This behavior is deprecated, and in a future version of pandas the grouping columns will be excluded from the operation. Either pass `include_groups=False` to exclude the groupings or explicitly select the grouping columns after groupby to silence this warning.\n",
      "  .apply(collect_group)\n"
     ]
    }
   ],
   "source": [
    "# ------------------------------------------------------------------\n",
    "# 4. FACILITY × ASSOCIATION_DATE GROUPS\n",
    "#     collect owner & pct strings per (CCN, assoc_date)\n",
    "# ------------------------------------------------------------------\n",
    "def collect_group(sub: pd.DataFrame) -> pd.Series:\n",
    "    sub = sub.sort_values(\"owner_name\")\n",
    "    owners = \" | \".join(sub[\"owner_name\"].astype(str))\n",
    "    pcts   = \" | \".join(sub[\"ownership_percentage\"].astype(str))\n",
    "    return pd.Series({\"owners\": owners, \"pcts\": pcts})\n",
    "\n",
    "fac_date = (\n",
    "    df.groupby([\"cms_certification_number\", \"association_date\"], dropna=False, observed=True)\n",
    "      .apply(collect_group)\n",
    "      .reset_index()\n",
    "      .sort_values([\"cms_certification_number\", \"association_date\"])\n",
    ")\n",
    "print(f\"[fac_date] grouped rows: {len(fac_date):,}\")"
   ]
  },
  {
   "cell_type": "code",
   "execution_count": 24,
   "id": "9fb8b8a5-dc70-4041-8e0a-9351653661b2",
   "metadata": {},
   "outputs": [
    {
     "name": "stdout",
     "output_type": "stream",
     "text": [
      "[fac_unique] unique combos: 39,321\n"
     ]
    }
   ],
   "source": [
    "# ------------------------------------------------------------------\n",
    "# 5. COLLAPSE DUPLICATE OWNER/PCT COMBOS WITHIN FACILITY\n",
    "#    (keep earliest association_date for that combo)\n",
    "# ------------------------------------------------------------------\n",
    "fac_date[\"combo_key\"] = fac_date[\"owners\"] + \"||\" + fac_date[\"pcts\"]\n",
    "fac_unique = (\n",
    "    fac_date.sort_values(\"association_date\")  # earliest first\n",
    "            .drop_duplicates(subset=[\"cms_certification_number\", \"combo_key\"], keep=\"first\")\n",
    "            .reset_index(drop=True)\n",
    "            .sort_values([\"cms_certification_number\", \"association_date\"])\n",
    ")\n",
    "print(f\"[fac_unique] unique combos: {len(fac_unique):,}\")"
   ]
  },
  {
   "cell_type": "code",
   "execution_count": 25,
   "id": "57fd55aa-8732-4238-a579-6f1225471af8",
   "metadata": {},
   "outputs": [
    {
     "name": "stdout",
     "output_type": "stream",
     "text": [
      "[split] valid rows: 38,092  |  missing CCN rows: 1,229\n",
      "[check] duplicate (CCN, grp_n) pairs: 0\n"
     ]
    }
   ],
   "source": [
    "# ------------------------------------------------------------------\n",
    "# 6. SPLIT VALID vs MISSING CCN\n",
    "# ------------------------------------------------------------------\n",
    "fac_missing = fac_unique[fac_unique[\"cms_certification_number\"].isna()].copy()\n",
    "fac_valid   = fac_unique[fac_unique[\"cms_certification_number\"].notna()].copy()\n",
    "print(f\"[split] valid rows: {len(fac_valid):,}  |  missing CCN rows: {len(fac_missing):,}\")\n",
    "\n",
    "# ------------------------------------------------------------------\n",
    "# 7. ASSIGN GROUP NUMBERS (chronological within each CCN)\n",
    "# ------------------------------------------------------------------\n",
    "fac_valid = fac_valid.sort_values([\"cms_certification_number\", \"association_date\"])\n",
    "fac_valid[\"grp_n\"] = fac_valid.groupby(\"cms_certification_number\").cumcount() + 1\n",
    "fac_valid[\"grp_n\"] = fac_valid[\"grp_n\"].astype(int)\n",
    "\n",
    "# Sanity check: should be zero duplicates now\n",
    "dups = fac_valid.duplicated([\"cms_certification_number\", \"grp_n\"], keep=False)\n",
    "print(f\"[check] duplicate (CCN, grp_n) pairs: {dups.sum()}\")"
   ]
  },
  {
   "cell_type": "code",
   "execution_count": 26,
   "id": "c4e7431b-efcb-4b78-9dee-5cb6cab97ddf",
   "metadata": {},
   "outputs": [],
   "source": [
    "# ------------------------------------------------------------------\n",
    "# 8. PIVOT WIDE (safe with pivot_table)\n",
    "# ------------------------------------------------------------------\n",
    "w_owners = fac_valid.pivot_table(index=\"cms_certification_number\", columns=\"grp_n\", values=\"owners\", aggfunc=\"first\")\n",
    "w_owners.columns = [f\"group{i}_owners\" for i in w_owners.columns]\n",
    "\n",
    "w_pcts = fac_valid.pivot_table(index=\"cms_certification_number\", columns=\"grp_n\", values=\"pcts\", aggfunc=\"first\")\n",
    "w_pcts.columns = [f\"group{i}_pcts\" for i in w_pcts.columns]\n",
    "\n",
    "w_dates = fac_valid.pivot_table(index=\"cms_certification_number\", columns=\"grp_n\", values=\"association_date\", aggfunc=\"first\")\n",
    "w_dates.columns = [f\"group{i}_date\" for i in w_dates.columns]"
   ]
  },
  {
   "cell_type": "code",
   "execution_count": 27,
   "id": "345be41d-3f2a-44e4-8262-6f9f074628df",
   "metadata": {},
   "outputs": [
    {
     "name": "stdout",
     "output_type": "stream",
     "text": [
      "[final] facility_signatures shape: (13893, 50)\n"
     ]
    }
   ],
   "source": [
    "# ------------------------------------------------------------------\n",
    "# 9. COMBINE + ADD PROVIDER NAME\n",
    "# ------------------------------------------------------------------\n",
    "facility_signatures = (\n",
    "    pd.concat([w_owners, w_pcts, w_dates], axis=1)\n",
    "      .merge(canon_name, left_index=True, right_index=True, how=\"left\")\n",
    "      .reset_index()\n",
    ")\n",
    "\n",
    "# ORDER COLUMNS\n",
    "import re as _re\n",
    "group_nums = sorted(set(int(_re.search(r\"group(\\d+)_\", c).group(1))\n",
    "                        for c in facility_signatures.columns\n",
    "                        if _re.search(r\"group(\\d+)_\", c)))\n",
    "\n",
    "cols = [\"cms_certification_number\", \"provider_name\"]\n",
    "for n in group_nums:\n",
    "    cols += [f\"group{n}_owners\", f\"group{n}_pcts\", f\"group{n}_date\"]\n",
    "\n",
    "facility_signatures = facility_signatures[cols]\n",
    "print(f\"[final] facility_signatures shape: {facility_signatures.shape}\")"
   ]
  },
  {
   "cell_type": "code",
   "execution_count": 29,
   "id": "8bb395d7-738a-48b4-a87a-a98c60b543d7",
   "metadata": {},
   "outputs": [
    {
     "name": "stdout",
     "output_type": "stream",
     "text": [
      "[save] wrote:\n",
      "  C:\\Users\\wrthj\\OneDrive\\Documents\\Honors_Thesis\\data\\data\\facility_signatures.csv\n",
      "  C:\\Users\\wrthj\\OneDrive\\Documents\\Honors_Thesis\\data\\data\\facility_signatures_missing_ccn.csv\n"
     ]
    }
   ],
   "source": [
    "# ------------------------------------------------------------------\n",
    "# 10. SAVE OUTPUTS\n",
    "# ------------------------------------------------------------------\n",
    "out_sig  = OUT_DIR / \"facility_signatures.csv\"\n",
    "out_miss = OUT_DIR / \"facility_signatures_missing_ccn.csv\"\n",
    "\n",
    "facility_signatures.to_csv(out_sig, index=False)\n",
    "fac_missing.to_csv(out_miss, index=False)\n",
    "\n",
    "print(f\"[save] wrote:\\n  {out_sig}\\n  {out_miss}\")"
   ]
  },
  {
   "cell_type": "code",
   "execution_count": 28,
   "id": "57970633-2c42-4842-b9f3-239af17e9608",
   "metadata": {},
   "outputs": [
    {
     "name": "stdout",
     "output_type": "stream",
     "text": [
      "\n",
      "[check] CCN 015009:\n",
      "                                                          0\n",
      "cms_certification_number                            015009\n",
      "provider_name                     BURNS NURSING HOME, INC.\n",
      "group1_owners             DEARMAN, LARRY | DEARMAN, MARTHA\n",
      "group1_pcts                                      10% | 81%\n",
      "group1_date                            1969-09-01 00:00:00\n",
      "group2_owners                             DEARMAN, CAMERON\n",
      "group2_pcts                                             5%\n",
      "group2_date                            2012-01-25 00:00:00\n",
      "group3_owners                                          NaN\n",
      "group3_pcts                                            NaN\n",
      "group3_date                                            NaT\n",
      "group4_owners                                          NaN\n",
      "group4_pcts                                            NaN\n",
      "group4_date                                            NaT\n",
      "group5_owners                                          NaN\n",
      "group5_pcts                                            NaN\n",
      "group5_date                                            NaT\n",
      "group6_owners                                          NaN\n",
      "group6_pcts                                            NaN\n",
      "group6_date                                            NaT\n",
      "group7_owners                                          NaN\n",
      "group7_pcts                                            NaN\n",
      "group7_date                                            NaT\n",
      "group8_owners                                          NaN\n",
      "group8_pcts                                            NaN\n",
      "group8_date                                            NaT\n",
      "group9_owners                                          NaN\n",
      "group9_pcts                                            NaN\n",
      "group9_date                                            NaT\n",
      "group10_owners                                         NaN\n",
      "group10_pcts                                           NaN\n",
      "group10_date                                           NaT\n",
      "group11_owners                                         NaN\n",
      "group11_pcts                                           NaN\n",
      "group11_date                                           NaT\n",
      "group12_owners                                         NaN\n",
      "group12_pcts                                           NaN\n",
      "group12_date                                           NaT\n",
      "group13_owners                                         NaN\n",
      "group13_pcts                                           NaN\n",
      "group13_date                                           NaT\n",
      "group14_owners                                         NaN\n",
      "group14_pcts                                           NaN\n",
      "group14_date                                           NaT\n",
      "group15_owners                                         NaN\n",
      "group15_pcts                                           NaN\n",
      "group15_date                                           NaT\n",
      "group16_owners                                         NaN\n",
      "group16_pcts                                           NaN\n",
      "group16_date                                           NaT\n"
     ]
    }
   ],
   "source": [
    "ccn_test = \"015009\"\n",
    "row = facility_signatures[facility_signatures[\"cms_certification_number\"] == ccn_test]\n",
    "if not row.empty:\n",
    "    print(f\"\\n[check] CCN {ccn_test}:\\n\", row.T)\n",
    "else:\n",
    "    print(f\"\\n[check] CCN {ccn_test} not found in facility_signatures.\")"
   ]
  },
  {
   "cell_type": "code",
   "execution_count": null,
   "id": "b749b298-21bf-44ae-a3f1-3c192de9a4c2",
   "metadata": {},
   "outputs": [],
   "source": []
  }
 ],
 "metadata": {
  "kernelspec": {
   "display_name": "Python 3 (ipykernel)",
   "language": "python",
   "name": "python3"
  },
  "language_info": {
   "codemirror_mode": {
    "name": "ipython",
    "version": 3
   },
   "file_extension": ".py",
   "mimetype": "text/x-python",
   "name": "python",
   "nbconvert_exporter": "python",
   "pygments_lexer": "ipython3",
   "version": "3.13.2"
  }
 },
 "nbformat": 4,
 "nbformat_minor": 5
}

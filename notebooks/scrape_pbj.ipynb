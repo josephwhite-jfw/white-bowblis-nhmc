{
 "cells": [
  {
   "cell_type": "code",
   "execution_count": 9,
   "id": "3fc13336-3569-4ff3-8723-cae1879cc2c9",
   "metadata": {},
   "outputs": [
    {
     "name": "stdout",
     "output_type": "stream",
     "text": [
      "Moved: C:\\Users\\wrthj\\OneDrive\\Payroll Based Journal Daily Nurse Staffing (1)\\Payroll Based Journal Daily Nurse Staffing\\2022-Q3\\PBJ_dailynursestaffing_CY2022Q3.csv → C:\\Users\\wrthj\\OneDrive\\NursingHomeData\\pbj-nurse\\pbj_nurse_2022_Q3.csv\n",
      "Moved: C:\\Users\\wrthj\\OneDrive\\Payroll Based Journal Daily Nurse Staffing (1)\\Payroll Based Journal Daily Nurse Staffing\\2022-Q4\\PBJ_dailynursestaffing_CY2022Q4.csv → C:\\Users\\wrthj\\OneDrive\\NursingHomeData\\pbj-nurse\\pbj_nurse_2022_Q4.csv\n",
      "Moved: C:\\Users\\wrthj\\OneDrive\\Payroll Based Journal Daily Nurse Staffing (1)\\Payroll Based Journal Daily Nurse Staffing\\2023-Q1\\PBJ_dailynursestaffing_CY2023Q1.csv → C:\\Users\\wrthj\\OneDrive\\NursingHomeData\\pbj-nurse\\pbj_nurse_2023_Q1.csv\n",
      "Moved: C:\\Users\\wrthj\\OneDrive\\Payroll Based Journal Daily Nurse Staffing (1)\\Payroll Based Journal Daily Nurse Staffing\\2023-Q2\\PBJ_dailynursestaffing_CY2023Q2.csv → C:\\Users\\wrthj\\OneDrive\\NursingHomeData\\pbj-nurse\\pbj_nurse_2023_Q2.csv\n",
      "Moved: C:\\Users\\wrthj\\OneDrive\\Payroll Based Journal Daily Nurse Staffing (1)\\Payroll Based Journal Daily Nurse Staffing\\2023-Q3\\PBJ_dailynursestaffing_CY2023Q3.csv → C:\\Users\\wrthj\\OneDrive\\NursingHomeData\\pbj-nurse\\pbj_nurse_2023_Q3.csv\n",
      "Moved: C:\\Users\\wrthj\\OneDrive\\Payroll Based Journal Daily Nurse Staffing (1)\\Payroll Based Journal Daily Nurse Staffing\\2023-Q4\\PBJ_dailynursestaffing_CY2023Q4.csv → C:\\Users\\wrthj\\OneDrive\\NursingHomeData\\pbj-nurse\\pbj_nurse_2023_Q4.csv\n",
      "Moved: C:\\Users\\wrthj\\OneDrive\\Payroll Based Journal Daily Nurse Staffing (1)\\Payroll Based Journal Daily Nurse Staffing\\2024-Q1\\PBJ_dailynursestaffing_CY2024Q1.csv → C:\\Users\\wrthj\\OneDrive\\NursingHomeData\\pbj-nurse\\pbj_nurse_2024_Q1.csv\n",
      "Moved: C:\\Users\\wrthj\\OneDrive\\Payroll Based Journal Daily Nurse Staffing (1)\\Payroll Based Journal Daily Nurse Staffing\\2024-Q2\\PBJ_dailynursestaffing_CY2024Q2.csv → C:\\Users\\wrthj\\OneDrive\\NursingHomeData\\pbj-nurse\\pbj_nurse_2024_Q2.csv\n",
      "Moved: C:\\Users\\wrthj\\OneDrive\\Payroll Based Journal Daily Nurse Staffing (1)\\Payroll Based Journal Daily Nurse Staffing\\2024-Q3\\PBJ_dailynursestaffing_CY2024Q3.csv → C:\\Users\\wrthj\\OneDrive\\NursingHomeData\\pbj-nurse\\pbj_nurse_2024_Q3.csv\n",
      "Moved: C:\\Users\\wrthj\\OneDrive\\Payroll Based Journal Daily Nurse Staffing (1)\\Payroll Based Journal Daily Nurse Staffing\\2024-Q4\\PBJ_dailynursestaffing_CY2024Q4.csv → C:\\Users\\wrthj\\OneDrive\\NursingHomeData\\pbj-nurse\\pbj_nurse_2024_Q4.csv\n",
      "Moved: C:\\Users\\wrthj\\OneDrive\\Payroll Based Journal Daily Nurse Staffing (1)\\Payroll Based Journal Daily Nurse Staffing\\2025-Q1\\PBJ_dailynursestaffing_CY2025Q1.csv → C:\\Users\\wrthj\\OneDrive\\NursingHomeData\\pbj-nurse\\pbj_nurse_2025_Q1.csv\n"
     ]
    }
   ],
   "source": [
    "import shutil\n",
    "from pathlib import Path\n",
    "import re\n",
    "\n",
    "# Source and destination folders\n",
    "src_root = Path(r\"C:\\Users\\wrthj\\OneDrive\\Payroll Based Journal Daily Nurse Staffing (1)\\Payroll Based Journal Daily Nurse Staffing\")\n",
    "dst_root = Path(r\"C:\\Users\\wrthj\\OneDrive\\NursingHomeData\\pbj-nurse\")\n",
    "\n",
    "# Make sure destination folder exists\n",
    "dst_root.mkdir(parents=True, exist_ok=True)\n",
    "\n",
    "# Regex to extract year/quarter from filenames\n",
    "patterns = [\n",
    "    re.compile(r\"PBJ_Nurse_(\\d{4})_Q([1-4])\", re.IGNORECASE),\n",
    "    re.compile(r\"PBJ_dailynursestaffing_CY(\\d{4})Q([1-4])\", re.IGNORECASE)\n",
    "]\n",
    "\n",
    "# Walk through subfolders\n",
    "for file in src_root.rglob(\"*.csv\"):\n",
    "    year, quarter = None, None\n",
    "    for pat in patterns:\n",
    "        match = pat.search(file.name)\n",
    "        if match:\n",
    "            year, quarter = match.groups()\n",
    "            break\n",
    "    if year and quarter:\n",
    "        new_name = f\"pbj_nurse_{year}_Q{quarter}.csv\"\n",
    "        dst_path = dst_root / new_name\n",
    "        shutil.move(str(file), dst_path)\n",
    "        print(f\"Moved: {file} → {dst_path}\")\n",
    "    else:\n",
    "        print(f\"Skipped (no match): {file}\")"
   ]
  },
  {
   "cell_type": "code",
   "execution_count": null,
   "id": "72073418-725a-41d5-9c99-b632f9a5a4cd",
   "metadata": {},
   "outputs": [],
   "source": []
  }
 ],
 "metadata": {
  "kernelspec": {
   "display_name": "Python 3 (ipykernel)",
   "language": "python",
   "name": "python3"
  },
  "language_info": {
   "codemirror_mode": {
    "name": "ipython",
    "version": 3
   },
   "file_extension": ".py",
   "mimetype": "text/x-python",
   "name": "python",
   "nbconvert_exporter": "python",
   "pygments_lexer": "ipython3",
   "version": "3.13.2"
  }
 },
 "nbformat": 4,
 "nbformat_minor": 5
}

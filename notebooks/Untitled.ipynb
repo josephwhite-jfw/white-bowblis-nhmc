{
 "cells": [
  {
   "cell_type": "code",
   "execution_count": 8,
   "id": "2fdd7d51-f47a-4ed8-ace5-2ad89843d84d",
   "metadata": {},
   "outputs": [
    {
     "name": "stdout",
     "output_type": "stream",
     "text": [
      "[paths] OWN_DIR=C:\\Users\\Owner\\OneDrive\\NursingHomeData\\ownership-files\n",
      "[paths] INTERIM_DIR=C:\\Repositories\\white-bowblis-nhmc\\data\\interim\n",
      "[load]  C:\\Users\\Owner\\OneDrive\\NursingHomeData\\ownership-files\\ownership_combined.csv\n",
      "[loaded] rows=5,075,773, cols=7\n",
      "[save] CHOW-ready panel → C:\\Repositories\\white-bowblis-nhmc\\data\\interim\\ownership_ccn_month_chow_ready_v2.csv  (rows=1,173,176)\n",
      "\n",
      "=== QC snapshot ===\n",
      "Distinct CCNs: 14075\n",
      "Years covered: [2017, 2018, 2019, 2020, 2021, 2022, 2023, 2024, 2025]\n",
      "\n",
      "Head:\n",
      "cms_certification_number   month_ts processing_date used_level  n_owners  owner_names  name_norms    owner_types      roles ownership_percentages association_dates pct_fill_tag  total_pct  has_percent    owner_summary                              snapshot_id\n",
      "                  005125 2018-10-01      2018-10-01     DIRECT         1 [\"VO, TIEN\"] [\"VO TIEN\"] [\"Individual\"] [\"DIRECT\"]               [100.0]    [\"2016-10-24\"]    none_null      100.0         True VO TIEN: 100.00% 2537ebced62eaf4a57584e08b510ce51842a7f40\n",
      "                  005125 2018-11-01      2018-11-01     DIRECT         1 [\"VO, TIEN\"] [\"VO TIEN\"] [\"Individual\"] [\"DIRECT\"]               [100.0]    [\"2016-10-24\"]    none_null      100.0         True VO TIEN: 100.00% d8326acf851f149d5a47185218e00e982db2217e\n",
      "                  005125 2018-12-01      2018-12-01     DIRECT         1 [\"VO, TIEN\"] [\"VO TIEN\"] [\"Individual\"] [\"DIRECT\"]               [100.0]    [\"2016-10-24\"]    none_null      100.0         True VO TIEN: 100.00% 7abc38abc9166e23a672139878ab80cd076d52c4\n"
     ]
    }
   ],
   "source": [
    "# ==============================================================================\n",
    "# CMS Ownership — Build CHOW-ready monthly panel (highest-level snapshot per CCN-month)\n",
    "# Priority: INDIRECT > DIRECT > PARTNERSHIP\n",
    "# Output: one row per (cms_certification_number, processing month)\n",
    "# Lists are ordered and aligned (name[i], pct[i], assoc_date[i], type[i], role[i])\n",
    "# ==============================================================================\n",
    "\n",
    "import os, re, json, hashlib, math\n",
    "import numpy as np\n",
    "import pandas as pd\n",
    "from pathlib import Path\n",
    "\n",
    "# ------------------------------------------------------------------------------\n",
    "# 1) Paths\n",
    "# ------------------------------------------------------------------------------\n",
    "PROJECT_ROOT = Path.cwd()\n",
    "while not (PROJECT_ROOT / \"data\").is_dir() and PROJECT_ROOT != PROJECT_ROOT.parent:\n",
    "    PROJECT_ROOT = PROJECT_ROOT.parent\n",
    "\n",
    "RAW_DIR     = Path(os.getenv(\"NH_DATA_DIR\", PROJECT_ROOT / \"data\" / \"raw\"))\n",
    "OWN_DIR     = RAW_DIR / \"ownership-files\"\n",
    "INTERIM_DIR = PROJECT_ROOT / \"data\" / \"interim\"\n",
    "OWN_DIR.mkdir(parents=True, exist_ok=True)\n",
    "INTERIM_DIR.mkdir(parents=True, exist_ok=True)\n",
    "\n",
    "IN_COMBINED = OWN_DIR / \"ownership_combined.csv\"                 # your big standardized file\n",
    "OUT_PANEL   = INTERIM_DIR / \"ownership_ccn_month_chow_ready_v2.csv\"\n",
    "\n",
    "print(f\"[paths] OWN_DIR={OWN_DIR}\")\n",
    "print(f\"[paths] INTERIM_DIR={INTERIM_DIR}\")\n",
    "print(f\"[load]  {IN_COMBINED}\")\n",
    "\n",
    "# ------------------------------------------------------------------------------\n",
    "# 2) Load\n",
    "# ------------------------------------------------------------------------------\n",
    "usecols = None  # or narrow if you want faster loads\n",
    "df = pd.read_csv(\n",
    "    IN_COMBINED,\n",
    "    dtype={\n",
    "        \"cms_certification_number\": \"string\",\n",
    "        \"role\": \"string\",\n",
    "        \"owner_type\": \"string\",\n",
    "        \"owner_name\": \"string\",\n",
    "        \"ownership_percentage\": \"string\",   # we'll coerce to numeric later\n",
    "    },\n",
    "    parse_dates=[\"association_date\",\"processing_date\"],\n",
    "    low_memory=False,\n",
    "    usecols=usecols,\n",
    ")\n",
    "print(f\"[loaded] rows={len(df):,}, cols={df.shape[1]}\")\n",
    "\n",
    "# Basic hygiene\n",
    "df[\"cms_certification_number\"] = (\n",
    "    df[\"cms_certification_number\"].astype(\"string\").str.replace(r\"\\D\",\"\",regex=True).str.zfill(6)\n",
    ")\n",
    "\n",
    "# Keep only the three role levels of interest\n",
    "ROLE_PRIORITY = {\"INDIRECT\": 0, \"DIRECT\": 1, \"PARTNERSHIP\": 2}\n",
    "df[\"role\"] = df[\"role\"].str.upper().str.strip()\n",
    "df = df[df[\"role\"].isin(ROLE_PRIORITY.keys())].copy()\n",
    "\n",
    "# Structure by processing month (snapshot month)\n",
    "df[\"month_ts\"] = df[\"processing_date\"].values.astype(\"datetime64[M]\")\n",
    "\n",
    "# ------------------------------------------------------------------------------\n",
    "# 3) Owner name normalization & helpers\n",
    "# ------------------------------------------------------------------------------\n",
    "CORP_SUFFIX_RE = re.compile(\n",
    "    r\"\\b(CORP(ORATION)?|INCORPORATED|INC|LLC|L\\.L\\.C\\.|LP|L\\.P\\.|LLP|CO|COMPANY|HOLDINGS?|INVESTMENTS?)\\b\\.?\",\n",
    "    re.I\n",
    ")\n",
    "PUNCT_RE = re.compile(r\"[,\\.&]\")\n",
    "\n",
    "def norm_owner_name(name: str) -> str:\n",
    "    s = str(name).upper().strip()\n",
    "    s = PUNCT_RE.sub(\" \", s)\n",
    "    s = CORP_SUFFIX_RE.sub(\"\", s)\n",
    "    s = re.sub(r\"\\s+\", \" \", s).strip()\n",
    "    return s\n",
    "\n",
    "def choose_top_level(roles: pd.Series) -> str | None:\n",
    "    present = [r for r in roles.dropna().astype(str).str.upper().unique() if r in ROLE_PRIORITY]\n",
    "    if not present:\n",
    "        return None\n",
    "    return sorted(present, key=lambda r: ROLE_PRIORITY[r])[0]\n",
    "\n",
    "def json_list(values, as_date=False):\n",
    "    # Produce JSON array with None for NaNs; if as_date, cast to ISO date\n",
    "    out = []\n",
    "    if as_date:\n",
    "        vals = pd.to_datetime(values, errors=\"coerce\")\n",
    "        for v in vals:\n",
    "            out.append(None if pd.isna(v) else v.date().isoformat())\n",
    "    else:\n",
    "        for v in values:\n",
    "            if isinstance(v, float) and np.isnan(v):\n",
    "                out.append(None)\n",
    "            elif pd.isna(v):\n",
    "                out.append(None)\n",
    "            else:\n",
    "                out.append(v)\n",
    "    return json.dumps(out, ensure_ascii=False)\n",
    "\n",
    "def pct_fill_tag(pcts) -> str:\n",
    "    s = pd.Series(pcts, dtype=\"float64\")\n",
    "    if s.empty or s.notna().sum()==0:\n",
    "        return \"all_null\"\n",
    "    if s.notna().sum()==len(s):\n",
    "        return \"none_null\"\n",
    "    return \"some_null\"\n",
    "\n",
    "def make_snapshot_id(ccn: str, month: pd.Timestamp, used_level: str, names: list, pcts: list) -> str:\n",
    "    \"\"\"Deterministic fingerprint of the snapshot for change tracking.\"\"\"\n",
    "    payload = json.dumps({\n",
    "        \"ccn\": str(ccn),\n",
    "        \"month\": None if pd.isna(month) else pd.to_datetime(month).date().isoformat(),\n",
    "        \"level\": used_level,\n",
    "        \"owners\": names,\n",
    "        \"pcts\": [None if (x is None or (isinstance(x,float) and math.isnan(x))) else float(x) for x in pcts],\n",
    "    }, ensure_ascii=False)\n",
    "    return hashlib.sha1(payload.encode(\"utf-8\")).hexdigest()\n",
    "\n",
    "# ------------------------------------------------------------------------------\n",
    "# 4) Build a single highest-level snapshot per (CCN, month)\n",
    "#    - Pick highest role available that month\n",
    "#    - Normalize names; dedupe by normalized name (sum %s, earliest assoc_date)\n",
    "#    - Stable sort: by % desc, then name_norm asc (ensures aligned lists)\n",
    "# ------------------------------------------------------------------------------\n",
    "rows = []\n",
    "grouped = df.groupby([\"cms_certification_number\",\"month_ts\"], sort=True, as_index=False)\n",
    "\n",
    "for (ccn, month), g in grouped:\n",
    "    used = choose_top_level(g[\"role\"])\n",
    "    if used is None:\n",
    "        continue\n",
    "\n",
    "    gm = g[g[\"role\"]==used].copy()\n",
    "\n",
    "    # Normalize names; coerce percentage to numeric\n",
    "    gm[\"name_norm\"] = gm[\"owner_name\"].map(norm_owner_name)\n",
    "    gm[\"pct_num\"]   = pd.to_numeric(gm[\"ownership_percentage\"], errors=\"coerce\")\n",
    "\n",
    "    # Association date: if missing, fall back to processing_date\n",
    "    if \"association_date\" in gm.columns:\n",
    "        gm[\"association_date\"] = gm[\"association_date\"].fillna(gm[\"processing_date\"])\n",
    "    else:\n",
    "        gm[\"association_date\"] = gm[\"processing_date\"]\n",
    "\n",
    "    # Aggregate to normalized owner: sum %; earliest assoc date; modal type/role\n",
    "    agg = (gm.groupby(\"name_norm\", dropna=False, as_index=False)\n",
    "             .agg(\n",
    "                 owner_name=(\"owner_name\",\"first\"),\n",
    "                 owner_type=(\"owner_type\", lambda s: s.mode().iloc[0] if not s.mode().empty else s.iloc[0]),\n",
    "                 role=(\"role\", lambda s: s.mode().iloc[0] if not s.mode().empty else s.iloc[0]),\n",
    "                 pct_sum=(\"pct_num\",\"sum\"),\n",
    "                 assoc_min=(\"association_date\",\"min\"),\n",
    "             ))\n",
    "\n",
    "    # Stable order inside the month: percentage desc, then normalized name asc\n",
    "    agg = agg.sort_values([\"pct_sum\",\"name_norm\"], ascending=[False, True], kind=\"mergesort\").reset_index(drop=True)\n",
    "\n",
    "    # Prepare aligned lists\n",
    "    names_raw   = agg[\"owner_name\"].tolist()\n",
    "    names_norm  = agg[\"name_norm\"].tolist()\n",
    "    types_list  = agg[\"owner_type\"].tolist()\n",
    "    roles_list  = agg[\"role\"].tolist()\n",
    "    pcts_list   = agg[\"pct_sum\"].astype(float).tolist()\n",
    "    assoc_list  = agg[\"assoc_min\"].tolist()\n",
    "\n",
    "    # Derived fields\n",
    "    tag = pct_fill_tag(pcts_list)\n",
    "    total_pct = float(np.nansum(pcts_list)) if len(pcts_list) else np.nan\n",
    "    has_pct = any(pd.notna(pcts_list))\n",
    "\n",
    "    # Optional human-readable summary (\"A: 40%; B: 30%; ...\")\n",
    "    def fmt_pct(x):\n",
    "        return \"NA\" if pd.isna(x) else f\"{float(x):.2f}%\"\n",
    "    owner_summary = \" | \".join([f\"{n}: {fmt_pct(p)}\" for n,p in zip(names_norm, pcts_list)])\n",
    "\n",
    "    snapshot_id = make_snapshot_id(ccn, month, used, names_norm, pcts_list)\n",
    "\n",
    "    rows.append({\n",
    "        \"cms_certification_number\": str(ccn).zfill(6),\n",
    "        \"month_ts\": pd.to_datetime(month),\n",
    "        \"processing_date\": pd.to_datetime(month).date().isoformat(),   # month anchor\n",
    "        \"used_level\": used,\n",
    "        \"n_owners\": int(len(agg)),\n",
    "\n",
    "        # JSON lists (aligned order)\n",
    "        \"owner_names\": json_list(names_raw),\n",
    "        \"name_norms\": json_list(names_norm),\n",
    "        \"owner_types\": json_list(types_list),\n",
    "        \"roles\": json_list(roles_list),\n",
    "        \"ownership_percentages\": json.dumps(\n",
    "            [None if pd.isna(x) else float(x) for x in pcts_list], ensure_ascii=False\n",
    "        ),\n",
    "        \"association_dates\": json_list(assoc_list, as_date=True),\n",
    "\n",
    "        # Diagnostics\n",
    "        \"pct_fill_tag\": tag,\n",
    "        \"total_pct\": total_pct,\n",
    "        \"has_percent\": has_pct,\n",
    "        \"owner_summary\": owner_summary,\n",
    "\n",
    "        # Fingerprint for change detection\n",
    "        \"snapshot_id\": snapshot_id,\n",
    "    })\n",
    "\n",
    "panel = pd.DataFrame(rows).sort_values([\"cms_certification_number\",\"month_ts\"]).reset_index(drop=True)\n",
    "\n",
    "# Strong dtypes\n",
    "panel[\"cms_certification_number\"] = panel[\"cms_certification_number\"].astype(str).str.zfill(6)\n",
    "panel[\"month_ts\"] = pd.to_datetime(panel[\"month_ts\"], errors=\"coerce\")\n",
    "\n",
    "# ------------------------------------------------------------------------------\n",
    "# 5) Save + quick QC\n",
    "# ------------------------------------------------------------------------------\n",
    "panel.to_csv(OUT_PANEL, index=False)\n",
    "print(f\"[save] CHOW-ready panel → {OUT_PANEL}  (rows={len(panel):,})\")\n",
    "\n",
    "print(\"\\n=== QC snapshot ===\")\n",
    "print(\"Distinct CCNs:\", panel[\"cms_certification_number\"].nunique())\n",
    "years = sorted(panel[\"month_ts\"].dropna().dt.year.unique().tolist())\n",
    "print(\"Years covered:\", (years[:5] + [\"...\"] + years[-5:]) if len(years) > 10 else years)\n",
    "\n",
    "with pd.option_context(\"display.max_colwidth\", 120):\n",
    "    print(\"\\nHead:\")\n",
    "    print(panel.head(3).to_string(index=False))"
   ]
  },
  {
   "cell_type": "code",
   "execution_count": 9,
   "id": "739331f2-4d5d-44e0-81d2-ba5fa262aa5c",
   "metadata": {},
   "outputs": [],
   "source": [
    "df2 = pd.read_csv(INTERIM_DIR / \"ownership_ccn_month_chow_ready_v2.csv\")"
   ]
  },
  {
   "cell_type": "code",
   "execution_count": 11,
   "id": "17fc7e1a-072d-4828-8e8e-7d641f036913",
   "metadata": {},
   "outputs": [
    {
     "name": "stdout",
     "output_type": "stream",
     "text": [
      "<class 'pandas.core.frame.DataFrame'>\n",
      "RangeIndex: 1173176 entries, 0 to 1173175\n",
      "Data columns (total 16 columns):\n",
      " #   Column                    Non-Null Count    Dtype  \n",
      "---  ------                    --------------    -----  \n",
      " 0   cms_certification_number  1173176 non-null  int64  \n",
      " 1   month_ts                  1173176 non-null  object \n",
      " 2   processing_date           1173176 non-null  object \n",
      " 3   used_level                1173176 non-null  object \n",
      " 4   n_owners                  1173176 non-null  int64  \n",
      " 5   owner_names               1173176 non-null  object \n",
      " 6   name_norms                1173176 non-null  object \n",
      " 7   owner_types               1173176 non-null  object \n",
      " 8   roles                     1173176 non-null  object \n",
      " 9   ownership_percentages     1173176 non-null  object \n",
      " 10  association_dates         1173176 non-null  object \n",
      " 11  pct_fill_tag              1173176 non-null  object \n",
      " 12  total_pct                 1173176 non-null  float64\n",
      " 13  has_percent               1173176 non-null  bool   \n",
      " 14  owner_summary             1173176 non-null  object \n",
      " 15  snapshot_id               1173176 non-null  object \n",
      "dtypes: bool(1), float64(1), int64(2), object(12)\n",
      "memory usage: 135.4+ MB\n"
     ]
    }
   ],
   "source": [
    "print(\"Rows:\", len(df2))\n",
    "print(\"Columns:\", len(df2.columns))\n",
    "print(\"Column names:\", df2.columns.tolist())"
   ]
  },
  {
   "cell_type": "code",
   "execution_count": 12,
   "id": "449926df-8253-4712-8c49-80179a1f85a1",
   "metadata": {},
   "outputs": [
    {
     "name": "stdout",
     "output_type": "stream",
     "text": [
      " cms_certification_number   month_ts processing_date used_level  n_owners  owner_names  name_norms    owner_types      roles ownership_percentages association_dates pct_fill_tag  total_pct  has_percent    owner_summary                              snapshot_id\n",
      "                     5125 2018-10-01      2018-10-01     DIRECT         1 [\"VO, TIEN\"] [\"VO TIEN\"] [\"Individual\"] [\"DIRECT\"]               [100.0]    [\"2016-10-24\"]    none_null      100.0         True VO TIEN: 100.00% 2537ebced62eaf4a57584e08b510ce51842a7f40\n",
      "                     5125 2018-11-01      2018-11-01     DIRECT         1 [\"VO, TIEN\"] [\"VO TIEN\"] [\"Individual\"] [\"DIRECT\"]               [100.0]    [\"2016-10-24\"]    none_null      100.0         True VO TIEN: 100.00% d8326acf851f149d5a47185218e00e982db2217e\n",
      "                     5125 2018-12-01      2018-12-01     DIRECT         1 [\"VO, TIEN\"] [\"VO TIEN\"] [\"Individual\"] [\"DIRECT\"]               [100.0]    [\"2016-10-24\"]    none_null      100.0         True VO TIEN: 100.00% 7abc38abc9166e23a672139878ab80cd076d52c4\n",
      " cms_certification_number   month_ts processing_date used_level  n_owners                                                                                                                                                                                                                                                                                                                                                                                                                                                                                                                                owner_names                                                                                                                                                                                                                                                                                                                                                                                                      name_norms                                                                                                                                                                                                                                                                      owner_types                                                                                                                                                                                                        roles                                                                 ownership_percentages                                                                                                                                                                                                                              association_dates pct_fill_tag  total_pct  has_percent                                                                                                                                                                                                                                                                                                                                                                                                                                                                                                      owner_summary                              snapshot_id\n",
      "                   745052 2025-07-01      2025-07-01   INDIRECT        17 [\"COLUMBIA HOSPITAL CORPORATION - DELAWARE\", \"COLUMBIA HOSPITAL CORPORATION OF WEST HOUSTON\", \"COLUMBIA/HCA OF HOUSTON, INC\", \"FRISCO INC\", \"HCA INC\", \"HCA HEALTH SERVICES OF TEXAS INC\", \"HCA HEALTHCARE INC\", \"HCA SQUARED, LLC\", \"HEALTHSERV ACQUISITION, LLC\", \"HEALTHTRUST INC - THE HOSPITAL COMPANY\", \"HERCULES HOLDING II\", \"HOSPITAL CORP LLC\", \"HOUSTON HEALTHCARE HOLDINGS, INC\", \"HTI HOSPITAL HOLDINGS INC\", \"INDIANAPOLIS HOSPITAL PARTNER, LLC\", \"PASADENA BAYSHORE HOSPITAL, INC\", \"WOMEN'S HOSPITAL INDIANAPOLIS, L.P.\"] [\"COLUMBIA HOSPITAL - DELAWARE\", \"COLUMBIA HOSPITAL OF WEST HOUSTON\", \"COLUMBIA/HCA OF HOUSTON\", \"FRISCO\", \"HCA\", \"HCA HEALTH SERVICES OF TEXAS\", \"HCA HEALTHCARE\", \"HCA SQUARED\", \"HEALTHSERV ACQUISITION\", \"HEALTHTRUST - THE HOSPITAL\", \"HERCULES II\", \"HOSPITAL\", \"HOUSTON HEALTHCARE\", \"HTI HOSPITAL\", \"INDIANAPOLIS HOSPITAL PARTNER\", \"PASADENA BAYSHORE HOSPITAL\", \"WOMEN'S HOSPITAL INDIANAPOLIS L P\"] [\"Organization\", \"Organization\", \"Organization\", \"Organization\", \"Organization\", \"Organization\", \"Organization\", \"Organization\", \"Organization\", \"Organization\", \"Organization\", \"Organization\", \"Organization\", \"Organization\", \"Organization\", \"Organization\", \"Organization\"] [\"INDIRECT\", \"INDIRECT\", \"INDIRECT\", \"INDIRECT\", \"INDIRECT\", \"INDIRECT\", \"INDIRECT\", \"INDIRECT\", \"INDIRECT\", \"INDIRECT\", \"INDIRECT\", \"INDIRECT\", \"INDIRECT\", \"INDIRECT\", \"INDIRECT\", \"INDIRECT\", \"INDIRECT\"] [0.0, 0.0, 0.0, 0.0, 0.0, 0.0, 0.0, 0.0, 0.0, 0.0, 0.0, 0.0, 0.0, 0.0, 0.0, 0.0, 0.0] [\"2011-07-01\", \"2011-07-01\", \"2011-07-01\", \"2006-11-17\", \"2011-07-01\", \"2011-07-01\", \"2011-07-01\", \"2011-10-24\", \"2011-07-01\", \"2011-07-01\", \"2011-07-01\", \"2011-07-01\", \"2011-07-01\", \"2011-07-01\", \"2011-07-01\", \"2011-07-01\", \"2011-07-01\"]    none_null        0.0         True COLUMBIA HOSPITAL - DELAWARE: 0.00% | COLUMBIA HOSPITAL OF WEST HOUSTON: 0.00% | COLUMBIA/HCA OF HOUSTON: 0.00% | FRISCO: 0.00% | HCA: 0.00% | HCA HEALTH SERVICES OF TEXAS: 0.00% | HCA HEALTHCARE: 0.00% | HCA SQUARED: 0.00% | HEALTHSERV ACQUISITION: 0.00% | HEALTHTRUST - THE HOSPITAL: 0.00% | HERCULES II: 0.00% | HOSPITAL: 0.00% | HOUSTON HEALTHCARE: 0.00% | HTI HOSPITAL: 0.00% | INDIANAPOLIS HOSPITAL PARTNER: 0.00% | PASADENA BAYSHORE HOSPITAL: 0.00% | WOMEN'S HOSPITAL INDIANAPOLIS L P: 0.00% e563ba855c43260f344e2b3d2028e36715990a93\n",
      "                   745056 2025-06-01      2025-06-01     DIRECT         2                                                                                                                                                                                                                                                                                                                                                                                                                                                   [\"SOUTHERN OAKS THERAPY AND LIVING CENTER LLC\", \"WEST WHARTON COUNTY HOSPITAL DISTRICT\"]                                                                                                                                                                                                                                                                                                                            [\"SOUTHERN OAKS THERAPY AND LIVING CENTER\", \"WEST WHARTON COUNTY HOSPITAL DISTRICT\"]                                                                                                                                                                                                                                                 [\"Organization\", \"Organization\"]                                                                                                                                                                                         [\"DIRECT\", \"DIRECT\"]                                                                            [0.0, 0.0]                                                                                                                                                                                                                   [\"2024-03-01\", \"2024-03-01\"]    none_null        0.0         True                                                                                                                                                                                                                                                                                                                                                                                                                      SOUTHERN OAKS THERAPY AND LIVING CENTER: 0.00% | WEST WHARTON COUNTY HOSPITAL DISTRICT: 0.00% 08ef6fce0bbf3cc32787f95179bdbcfbdf5f9764\n",
      "                   745056 2025-07-01      2025-07-01     DIRECT         2                                                                                                                                                                                                                                                                                                                                                                                                                                                   [\"SOUTHERN OAKS THERAPY AND LIVING CENTER LLC\", \"WEST WHARTON COUNTY HOSPITAL DISTRICT\"]                                                                                                                                                                                                                                                                                                                            [\"SOUTHERN OAKS THERAPY AND LIVING CENTER\", \"WEST WHARTON COUNTY HOSPITAL DISTRICT\"]                                                                                                                                                                                                                                                 [\"Organization\", \"Organization\"]                                                                                                                                                                                         [\"DIRECT\", \"DIRECT\"]                                                                            [0.0, 0.0]                                                                                                                                                                                                                   [\"2024-03-01\", \"2024-03-01\"]    none_null        0.0         True                                                                                                                                                                                                                                                                                                                                                                                                                      SOUTHERN OAKS THERAPY AND LIVING CENTER: 0.00% | WEST WHARTON COUNTY HOSPITAL DISTRICT: 0.00% 08dacc5af4afc8099377c1f7a5c5c183a1858830\n"
     ]
    }
   ],
   "source": [
    "# first 3 rows\n",
    "print(df2.head(3).to_string(index=False))\n",
    "# last 3 rows\n",
    "print(df2.tail(3).to_string(index=False))"
   ]
  },
  {
   "cell_type": "code",
   "execution_count": 13,
   "id": "1a0951cb-5a4c-449a-80cf-9fdbde9e8ab0",
   "metadata": {},
   "outputs": [
    {
     "name": "stdout",
     "output_type": "stream",
     "text": [
      "Distinct CCNs: 14075\n",
      "Date range: 2017-01-01 → 2025-07-01\n",
      "Levels used: used_level\n",
      "DIRECT         608720\n",
      "INDIRECT       558079\n",
      "PARTNERSHIP      6377\n",
      "Name: count, dtype: int64\n"
     ]
    }
   ],
   "source": [
    "print(\"Distinct CCNs:\", df2[\"cms_certification_number\"].nunique())\n",
    "print(\"Date range:\", df2[\"month_ts\"].min(), \"→\", df2[\"month_ts\"].max())\n",
    "print(\"Levels used:\", df2[\"used_level\"].value_counts(dropna=False))"
   ]
  },
  {
   "cell_type": "code",
   "execution_count": 14,
   "id": "80fbfb4b-8647-4e87-ae97-d1cd36764654",
   "metadata": {},
   "outputs": [
    {
     "name": "stdout",
     "output_type": "stream",
     "text": [
      "pct_fill_tag counts:\n",
      "pct_fill_tag\n",
      "none_null    1173176\n",
      "Name: count, dtype: int64\n",
      "\n",
      "Total % (sample 5):\n",
      "         cms_certification_number    month_ts  total_pct\n",
      "511082                     235442  2019-03-01       96.0\n",
      "3151                        15084  2023-01-01        0.0\n",
      "232539                     125047  2022-06-01        0.0\n",
      "1063757                    535059  2025-05-01      100.0\n",
      "753923                     365259  2023-11-01      100.0\n"
     ]
    }
   ],
   "source": [
    "print(\"pct_fill_tag counts:\")\n",
    "print(df2[\"pct_fill_tag\"].value_counts(dropna=False))\n",
    "\n",
    "print(\"\\nTotal % (sample 5):\")\n",
    "print(df2[[\"cms_certification_number\",\"month_ts\",\"total_pct\"]].sample(5))\n"
   ]
  },
  {
   "cell_type": "code",
   "execution_count": 15,
   "id": "b3b877f9-a0d0-4054-989d-a33e6d76f98e",
   "metadata": {},
   "outputs": [
    {
     "name": "stdout",
     "output_type": "stream",
     "text": [
      "CCN: 396001 Month: 2017-11-01\n",
      "Owners: [\"MAIN LINE HEALTH, INC.\"]\n",
      "Percents: [100.0]\n",
      "Assoc dates: [\"1985-07-01\"]\n"
     ]
    }
   ],
   "source": [
    "sample = df2.sample(1, random_state=42).iloc[0]\n",
    "print(\"CCN:\", sample[\"cms_certification_number\"], \"Month:\", sample[\"month_ts\"])\n",
    "print(\"Owners:\", sample[\"owner_names\"])\n",
    "print(\"Percents:\", sample[\"ownership_percentages\"])\n",
    "print(\"Assoc dates:\", sample[\"association_dates\"])\n"
   ]
  },
  {
   "cell_type": "code",
   "execution_count": 16,
   "id": "fc214c24-f149-44de-8527-ef87228fe98c",
   "metadata": {},
   "outputs": [
    {
     "name": "stdout",
     "output_type": "stream",
     "text": [
      "Zero-total CCN-months: 458427 of 1173176\n"
     ]
    }
   ],
   "source": [
    "zero_totals = (df2[\"total_pct\"] == 0).sum()\n",
    "print(\"Zero-total CCN-months:\", zero_totals, \"of\", len(df2))"
   ]
  },
  {
   "cell_type": "code",
   "execution_count": 17,
   "id": "74d0418f-ed24-46e7-8138-ebf10d3c7390",
   "metadata": {},
   "outputs": [
    {
     "name": "stdout",
     "output_type": "stream",
     "text": [
      "count    1.173176e+06\n",
      "mean     3.487939e+00\n",
      "std      3.511477e+00\n",
      "min      1.000000e+00\n",
      "25%      1.000000e+00\n",
      "50%      2.000000e+00\n",
      "75%      4.000000e+00\n",
      "max      3.400000e+01\n",
      "Name: n_owners, dtype: float64\n",
      "Top 5 by owner count:\n",
      "        cms_certification_number    month_ts  n_owners  total_pct\n",
      "271360                    145786  2022-10-01        34        0.0\n",
      "271361                    145786  2022-11-01        34        0.0\n",
      "271362                    145786  2023-01-01        34        0.0\n",
      "271363                    145786  2023-02-01        34        0.0\n",
      "115560                     65305  2022-09-01        33        0.0\n"
     ]
    }
   ],
   "source": [
    "print(df2[\"n_owners\"].describe())\n",
    "print(\"Top 5 by owner count:\")\n",
    "print(df2.nlargest(5, \"n_owners\")[[\"cms_certification_number\",\"month_ts\",\"n_owners\",\"total_pct\"]])"
   ]
  },
  {
   "cell_type": "code",
   "execution_count": 18,
   "id": "fda07a17-a9d9-4987-be6c-ca8a1c588c15",
   "metadata": {},
   "outputs": [
    {
     "ename": "AttributeError",
     "evalue": "Can only use .dt accessor with datetimelike values",
     "output_type": "error",
     "traceback": [
      "\u001b[1;31m---------------------------------------------------------------------------\u001b[0m",
      "\u001b[1;31mAttributeError\u001b[0m                            Traceback (most recent call last)",
      "Cell \u001b[1;32mIn[18], line 1\u001b[0m\n\u001b[1;32m----> 1\u001b[0m \u001b[38;5;28mprint\u001b[39m(df2\u001b[38;5;241m.\u001b[39mgroupby(df2[\u001b[38;5;124m\"\u001b[39m\u001b[38;5;124mmonth_ts\u001b[39m\u001b[38;5;124m\"\u001b[39m]\u001b[38;5;241m.\u001b[39mdt\u001b[38;5;241m.\u001b[39myear)\u001b[38;5;241m.\u001b[39msize())\n",
      "File \u001b[1;32m~\\anaconda3\\Lib\\site-packages\\pandas\\core\\generic.py:6318\u001b[0m, in \u001b[0;36mNDFrame.__getattr__\u001b[1;34m(self, name)\u001b[0m\n\u001b[0;32m   6311\u001b[0m \u001b[38;5;28;01mif\u001b[39;00m (\n\u001b[0;32m   6312\u001b[0m     name \u001b[38;5;129;01mnot\u001b[39;00m \u001b[38;5;129;01min\u001b[39;00m \u001b[38;5;28mself\u001b[39m\u001b[38;5;241m.\u001b[39m_internal_names_set\n\u001b[0;32m   6313\u001b[0m     \u001b[38;5;129;01mand\u001b[39;00m name \u001b[38;5;129;01mnot\u001b[39;00m \u001b[38;5;129;01min\u001b[39;00m \u001b[38;5;28mself\u001b[39m\u001b[38;5;241m.\u001b[39m_metadata\n\u001b[0;32m   6314\u001b[0m     \u001b[38;5;129;01mand\u001b[39;00m name \u001b[38;5;129;01mnot\u001b[39;00m \u001b[38;5;129;01min\u001b[39;00m \u001b[38;5;28mself\u001b[39m\u001b[38;5;241m.\u001b[39m_accessors\n\u001b[0;32m   6315\u001b[0m     \u001b[38;5;129;01mand\u001b[39;00m \u001b[38;5;28mself\u001b[39m\u001b[38;5;241m.\u001b[39m_info_axis\u001b[38;5;241m.\u001b[39m_can_hold_identifiers_and_holds_name(name)\n\u001b[0;32m   6316\u001b[0m ):\n\u001b[0;32m   6317\u001b[0m     \u001b[38;5;28;01mreturn\u001b[39;00m \u001b[38;5;28mself\u001b[39m[name]\n\u001b[1;32m-> 6318\u001b[0m \u001b[38;5;28;01mreturn\u001b[39;00m \u001b[38;5;28mobject\u001b[39m\u001b[38;5;241m.\u001b[39m\u001b[38;5;21m__getattribute__\u001b[39m(\u001b[38;5;28mself\u001b[39m, name)\n",
      "File \u001b[1;32m~\\anaconda3\\Lib\\site-packages\\pandas\\core\\accessor.py:224\u001b[0m, in \u001b[0;36mCachedAccessor.__get__\u001b[1;34m(self, obj, cls)\u001b[0m\n\u001b[0;32m    221\u001b[0m \u001b[38;5;28;01mif\u001b[39;00m obj \u001b[38;5;129;01mis\u001b[39;00m \u001b[38;5;28;01mNone\u001b[39;00m:\n\u001b[0;32m    222\u001b[0m     \u001b[38;5;66;03m# we're accessing the attribute of the class, i.e., Dataset.geo\u001b[39;00m\n\u001b[0;32m    223\u001b[0m     \u001b[38;5;28;01mreturn\u001b[39;00m \u001b[38;5;28mself\u001b[39m\u001b[38;5;241m.\u001b[39m_accessor\n\u001b[1;32m--> 224\u001b[0m accessor_obj \u001b[38;5;241m=\u001b[39m \u001b[38;5;28mself\u001b[39m\u001b[38;5;241m.\u001b[39m_accessor(obj)\n\u001b[0;32m    225\u001b[0m \u001b[38;5;66;03m# Replace the property with the accessor object. Inspired by:\u001b[39;00m\n\u001b[0;32m    226\u001b[0m \u001b[38;5;66;03m# https://www.pydanny.com/cached-property.html\u001b[39;00m\n\u001b[0;32m    227\u001b[0m \u001b[38;5;66;03m# We need to use object.__setattr__ because we overwrite __setattr__ on\u001b[39;00m\n\u001b[0;32m    228\u001b[0m \u001b[38;5;66;03m# NDFrame\u001b[39;00m\n\u001b[0;32m    229\u001b[0m \u001b[38;5;28mobject\u001b[39m\u001b[38;5;241m.\u001b[39m\u001b[38;5;21m__setattr__\u001b[39m(obj, \u001b[38;5;28mself\u001b[39m\u001b[38;5;241m.\u001b[39m_name, accessor_obj)\n",
      "File \u001b[1;32m~\\anaconda3\\Lib\\site-packages\\pandas\\core\\indexes\\accessors.py:643\u001b[0m, in \u001b[0;36mCombinedDatetimelikeProperties.__new__\u001b[1;34m(cls, data)\u001b[0m\n\u001b[0;32m    640\u001b[0m \u001b[38;5;28;01melif\u001b[39;00m \u001b[38;5;28misinstance\u001b[39m(data\u001b[38;5;241m.\u001b[39mdtype, PeriodDtype):\n\u001b[0;32m    641\u001b[0m     \u001b[38;5;28;01mreturn\u001b[39;00m PeriodProperties(data, orig)\n\u001b[1;32m--> 643\u001b[0m \u001b[38;5;28;01mraise\u001b[39;00m \u001b[38;5;167;01mAttributeError\u001b[39;00m(\u001b[38;5;124m\"\u001b[39m\u001b[38;5;124mCan only use .dt accessor with datetimelike values\u001b[39m\u001b[38;5;124m\"\u001b[39m)\n",
      "\u001b[1;31mAttributeError\u001b[0m: Can only use .dt accessor with datetimelike values"
     ]
    }
   ],
   "source": [
    "print(df2.groupby(df2[\"month_ts\"].dt.year).size())"
   ]
  },
  {
   "cell_type": "code",
   "execution_count": 19,
   "id": "85331a3e-c5df-4340-8b04-f236603d162d",
   "metadata": {},
   "outputs": [
    {
     "name": "stdout",
     "output_type": "stream",
     "text": [
      "Rows with misaligned lists: 0\n"
     ]
    }
   ],
   "source": [
    "bad = df2[df2.apply(lambda r: len(eval(r[\"owner_names\"])) != len(eval(r[\"ownership_percentages\"])), axis=1)]\n",
    "print(\"Rows with misaligned lists:\", len(bad))"
   ]
  },
  {
   "cell_type": "code",
   "execution_count": null,
   "id": "6c0644da-1a46-4d38-aeeb-5e51fca68fbc",
   "metadata": {},
   "outputs": [],
   "source": []
  }
 ],
 "metadata": {
  "kernelspec": {
   "display_name": "Python [conda env:base] *",
   "language": "python",
   "name": "conda-base-py"
  },
  "language_info": {
   "codemirror_mode": {
    "name": "ipython",
    "version": 3
   },
   "file_extension": ".py",
   "mimetype": "text/x-python",
   "name": "python",
   "nbconvert_exporter": "python",
   "pygments_lexer": "ipython3",
   "version": "3.12.3"
  }
 },
 "nbformat": 4,
 "nbformat_minor": 5
}

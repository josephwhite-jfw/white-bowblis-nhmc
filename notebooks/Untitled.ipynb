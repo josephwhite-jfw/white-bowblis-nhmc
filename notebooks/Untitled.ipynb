{
 "cells": [
  {
   "cell_type": "code",
   "execution_count": 5,
   "id": "e48a812b-4cf2-4d3a-b6c6-1dae324d368b",
   "metadata": {},
   "outputs": [
    {
     "name": "stdout",
     "output_type": "stream",
     "text": [
      "Current working dir:\n",
      " C:\\Users\\Owner\\OneDrive\\Documents\\GitHub\\white_bowblis_nhmc\\notebooks \n",
      "\n",
      "Folder tree upward until drive root:\n",
      "   C:\\Users\\Owner\\OneDrive\\Documents\\GitHub\\white_bowblis_nhmc\\notebooks\n",
      "   C:\\Users\\Owner\\OneDrive\\Documents\\GitHub\\white_bowblis_nhmc\n",
      "   C:\\Users\\Owner\\OneDrive\\Documents\\GitHub\n",
      "   C:\\Users\\Owner\\OneDrive\\Documents\n",
      "   C:\\Users\\Owner\\OneDrive\n",
      "   C:\\Users\\Owner\n",
      "   C:\\Users\n",
      "   C:\\\n"
     ]
    }
   ],
   "source": [
    "import pathlib, os, sys\n",
    "\n",
    "print(\"Current working dir:\\n\", pathlib.Path.cwd(), \"\\n\")\n",
    "\n",
    "print(\"Folder tree upward until drive root:\")\n",
    "p = pathlib.Path.cwd()\n",
    "while True:\n",
    "    print(\"  \", p)\n",
    "    if p == p.parent:      # reached filesystem root\n",
    "        break\n",
    "    p = p.parent"
   ]
  },
  {
   "cell_type": "code",
   "execution_count": 6,
   "id": "86631447-f157-4bf0-ac33-78547487f522",
   "metadata": {},
   "outputs": [
    {
     "name": "stdout",
     "output_type": "stream",
     "text": [
      "First matches for a folder named 'src':\n",
      "   C:\\Program Files\\Microsoft Office\\root\\Office16\\sdxs\\FA000000018\\assets\\src\n",
      "   C:\\Program Files\\Microsoft Office\\root\\Office16\\sdxs\\FA000000070\\assets\\src\n",
      "   C:\\Program Files\\Microsoft Office\\root\\Office16\\sdxs\\FA000000139\\assets\\_wordui\\src\n",
      "   C:\\Program Files\\Microsoft Office\\root\\Office16\\sdxs\\FA000000140\\assets\\_xlui\\src\n",
      "   C:\\Program Files\\Microsoft Office\\root\\Office16\\sdxs\\FA000000141\\assets\\_pptui\\src\n",
      "   C:\\Program Files\\R\\R-4.4.2\\src\n",
      "   C:\\Program Files\\R\\R-4.4.2\\src\\library\\windlgs\\src\n",
      "   C:\\Program Files\\RStudio\\resources\\app\\bin\\quarto\\bin\\tools\\x86_64\\dart-sass\\src\n",
      "   C:\\Program Files\\RStudio\\resources\\app\\bin\\quarto\\bin\\vendor\\deno-land\\x\\puppeteer@9-0-2\\src\n",
      "   C:\\Program Files\\RStudio\\resources\\app\\bin\\quarto\\bin\\vendor\\deno-land\\x\\puppeteer@9-0-2\\vendor\\puppeteer-core\\vendor\\mitt\\src\n",
      "   C:\\Program Files\\Streamlabs OBS\\resources\\app.asar.unpacked\\node_modules\\realm\\react-native\\android\\src\n",
      "   C:\\Program Files (x86)\\ASUS\\ArmouryDevice\\View\\E7C8DA76-C9B9-4297-8681-DD878330AFE7\\resources\\src\n",
      "   C:\\Program Files (x86)\\ASUS\\ArmouryDevice\\View\\E7C8DA76-C9B9-4297-8681-DD878330AFE7\\resources\\node_modules\\ac-components\\src\n",
      "   C:\\Users\\Owner\\anaconda3\\envs\\pydata-book\\etc\\conda\\test-files\\typing-extensions\\1\\src\n",
      "   C:\\Users\\Owner\\anaconda3\\envs\\pydata-book\\Lib\\site-packages\\numpy\\f2py\\src\n",
      "   C:\\Users\\Owner\\anaconda3\\envs\\pydata-book\\Lib\\site-packages\\numpy\\f2py\\tests\\src\n",
      "   C:\\Users\\Owner\\anaconda3\\envs\\pydata-book\\Library\\share\\doc\\qhull\\src\n",
      "   C:\\Users\\Owner\\anaconda3\\Lib\\site-packages\\bottleneck\\src\n",
      "   C:\\Users\\Owner\\anaconda3\\Lib\\site-packages\\mkl_fft\\src\n",
      "   C:\\Users\\Owner\\anaconda3\\Lib\\site-packages\\mkl_random\\src\n"
     ]
    }
   ],
   "source": [
    "import pathlib, itertools\n",
    "\n",
    "root = pathlib.Path.cwd().anchor  # drive root, e.g. \"C:\\\\\"\n",
    "src_paths = list(itertools.islice(pathlib.Path(root).glob(\"**/src\"), 0, 20))\n",
    "\n",
    "print(\"First matches for a folder named 'src':\")\n",
    "for sp in src_paths:\n",
    "    print(\"  \", sp)"
   ]
  },
  {
   "cell_type": "code",
   "execution_count": null,
   "id": "8e494fd7-5f87-4ece-b01c-0a594cfb9756",
   "metadata": {},
   "outputs": [],
   "source": []
  }
 ],
 "metadata": {
  "kernelspec": {
   "display_name": "Python [conda env:base] *",
   "language": "python",
   "name": "conda-base-py"
  },
  "language_info": {
   "codemirror_mode": {
    "name": "ipython",
    "version": 3
   },
   "file_extension": ".py",
   "mimetype": "text/x-python",
   "name": "python",
   "nbconvert_exporter": "python",
   "pygments_lexer": "ipython3",
   "version": "3.12.7"
  }
 },
 "nbformat": 4,
 "nbformat_minor": 5
}

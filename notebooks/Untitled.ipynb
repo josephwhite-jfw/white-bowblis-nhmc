{
 "cells": [
  {
   "cell_type": "code",
   "execution_count": 1,
   "id": "2b27b551-f8b1-44b0-ae16-76d06fe0968c",
   "metadata": {},
   "outputs": [
    {
     "name": "stdout",
     "output_type": "stream",
     "text": [
      "RAW_DIR : C:\\Users\\Owner\\OneDrive\\NursingHomeData\n",
      "INTERIM : C:\\Repositories\\white_bowblis_nhmc\\data\\interim\n"
     ]
    }
   ],
   "source": [
    "# ────────────────────────────────────────────────────────────────────────────────\n",
    "# 0.  Portable path setup  (NO src import required)\n",
    "# ────────────────────────────────────────────────────────────────────────────────\n",
    "import os, re, pathlib, pandas as pd, numpy as np\n",
    "\n",
    "# Walk upward until we find the repo root (folder that contains “data”)\n",
    "PROJECT_ROOT = pathlib.Path.cwd()\n",
    "while not (PROJECT_ROOT / \"data\").is_dir() and PROJECT_ROOT != PROJECT_ROOT.parent:\n",
    "    PROJECT_ROOT = PROJECT_ROOT.parent\n",
    "\n",
    "# Shared raw-data dir (OneDrive) comes from NH_DATA_DIR env var.\n",
    "RAW_DIR      = pathlib.Path(os.getenv(\"NH_DATA_DIR\", PROJECT_ROOT / \"data\" / \"raw\"))\n",
    "OWN_DIR      = RAW_DIR / \"ownership-files\"              # extraction outputs\n",
    "INTERIM_DIR  = PROJECT_ROOT / \"data\" / \"interim\"        # all cleaned / interim\n",
    "INTERIM_DIR.mkdir(parents=True, exist_ok=True)\n",
    "\n",
    "print(\"RAW_DIR :\", RAW_DIR)\n",
    "print(\"INTERIM :\", INTERIM_DIR)"
   ]
  },
  {
   "cell_type": "code",
   "execution_count": 2,
   "id": "0bda49a0-79d4-4f9e-8216-127e5b2a476e",
   "metadata": {},
   "outputs": [
    {
     "name": "stdout",
     "output_type": "stream",
     "text": [
      "[load] 162,904 rows, 12 columns\n"
     ]
    }
   ],
   "source": [
    "# ────────────────────────────────────────────────────────────────────────────────\n",
    "# 1. Load the clean ownership table from step 02\n",
    "# ────────────────────────────────────────────────────────────────────────────────\n",
    "CLEAN_PATH = INTERIM_DIR / \"ownership_file_clean.csv\"\n",
    "if not CLEAN_PATH.exists():\n",
    "    raise FileNotFoundError(CLEAN_PATH)\n",
    "\n",
    "df = pd.read_csv(\n",
    "    CLEAN_PATH,\n",
    "    dtype={\"cms_certification_number\": \"string\"},\n",
    "    parse_dates=[\"processing_date\", \"association_date\"],\n",
    "    low_memory=False,\n",
    ")\n",
    "print(f\"[load] {len(df):,} rows, {df.shape[1]} columns\")"
   ]
  },
  {
   "cell_type": "code",
   "execution_count": 3,
   "id": "d6245a8d-c27e-4bc6-a2d3-f4ba6c312f64",
   "metadata": {},
   "outputs": [],
   "source": [
    "# ────────────────────────────────────────────────────────────────────────────────\n",
    "# 2. Canonical provider name (latest non-null per CCN)\n",
    "# ────────────────────────────────────────────────────────────────────────────────\n",
    "canon_name = (\n",
    "    df.sort_values(\"processing_date\")\n",
    "      .groupby(\"cms_certification_number\", observed=True)[\"provider_name\"]\n",
    "      .agg(lambda s: s.dropna().iat[-1] if len(s.dropna()) else pd.NA)\n",
    "      .to_frame(\"provider_name\")\n",
    ")"
   ]
  },
  {
   "cell_type": "code",
   "execution_count": 4,
   "id": "477c46ed-3ad4-4337-932e-885817b15f2a",
   "metadata": {},
   "outputs": [
    {
     "name": "stdout",
     "output_type": "stream",
     "text": [
      "[fac_date] grouped rows: 39,742\n"
     ]
    },
    {
     "name": "stderr",
     "output_type": "stream",
     "text": [
      "C:\\Users\\Owner\\AppData\\Local\\Temp\\ipykernel_10716\\727370812.py:13: FutureWarning: DataFrameGroupBy.apply operated on the grouping columns. This behavior is deprecated, and in a future version of pandas the grouping columns will be excluded from the operation. Either pass `include_groups=False` to exclude the groupings or explicitly select the grouping columns after groupby to silence this warning.\n",
      "  .apply(collect)\n"
     ]
    }
   ],
   "source": [
    "# ────────────────────────────────────────────────────────────────────────────────\n",
    "# 3. Collapse each (CCN, association_date) → owners / pcts strings\n",
    "# ────────────────────────────────────────────────────────────────────────────────\n",
    "def collect(group):\n",
    "    group = group.sort_values(\"owner_name\")\n",
    "    owners = \" | \".join(group[\"owner_name\"].astype(str))\n",
    "    pcts   = \" | \".join(group[\"ownership_percentage\"].astype(str))\n",
    "    return pd.Series({\"owners\": owners, \"pcts\": pcts})\n",
    "\n",
    "fac_date = (\n",
    "    df.groupby([\"cms_certification_number\", \"association_date\"],\n",
    "               observed=True, dropna=False)\n",
    "      .apply(collect)\n",
    "      .reset_index()\n",
    ")\n",
    "print(f\"[fac_date] grouped rows: {len(fac_date):,}\")"
   ]
  },
  {
   "cell_type": "code",
   "execution_count": 6,
   "id": "88acc79b-3ee4-427d-a7aa-c46a331fac28",
   "metadata": {},
   "outputs": [
    {
     "name": "stdout",
     "output_type": "stream",
     "text": [
      "[fac_unique] unique combos: 39,289\n"
     ]
    }
   ],
   "source": [
    "# ────────────────────────────────────────────────────────────────────────────────\n",
    "# 4. Remove duplicate owner/pct combos within facility\n",
    "# ────────────────────────────────────────────────────────────────────────────────\n",
    "fac_date[\"combo_key\"] = fac_date[\"owners\"] + \"||\" + fac_date[\"pcts\"]\n",
    "fac_unique = (\n",
    "    fac_date.sort_values(\"association_date\")\n",
    "            .drop_duplicates(subset=[\"cms_certification_number\", \"combo_key\"], keep=\"first\")\n",
    "            .reset_index(drop=True)\n",
    ")\n",
    "print(f\"[fac_unique] unique combos: {len(fac_unique):,}\")"
   ]
  },
  {
   "cell_type": "code",
   "execution_count": 8,
   "id": "4dc5fac5-1750-42bf-939d-dcb392bf743a",
   "metadata": {},
   "outputs": [],
   "source": [
    "# ────────────────────────────────────────────────────────────────────────────────\n",
    "# 5. Split rows with / without CCN and assign group numbers\n",
    "# ────────────────────────────────────────────────────────────────────────────────\n",
    "fac_missing = fac_unique[fac_unique[\"cms_certification_number\"].isna()].copy()\n",
    "fac_valid   = fac_unique[fac_unique[\"cms_certification_number\"].notna()].copy()\n",
    "\n",
    "fac_valid = fac_valid.sort_values([\"cms_certification_number\", \"association_date\"])\n",
    "fac_valid[\"grp_n\"] = fac_valid.groupby(\"cms_certification_number\").cumcount() + 1\n",
    "assert not fac_valid.duplicated([\"cms_certification_number\", \"grp_n\"]).any()"
   ]
  },
  {
   "cell_type": "code",
   "execution_count": 9,
   "id": "3cc325c3-2be1-4861-a3b5-288f4267010a",
   "metadata": {},
   "outputs": [
    {
     "name": "stdout",
     "output_type": "stream",
     "text": [
      "[final] facility_signatures shape: (13893, 50)\n"
     ]
    }
   ],
   "source": [
    "# ────────────────────────────────────────────────────────────────────────────────\n",
    "# 6. Pivot wide: one row per CCN\n",
    "# ────────────────────────────────────────────────────────────────────────────────\n",
    "w_owners = fac_valid.pivot(index=\"cms_certification_number\", columns=\"grp_n\", values=\"owners\")\n",
    "w_pcts   = fac_valid.pivot(index=\"cms_certification_number\", columns=\"grp_n\", values=\"pcts\")\n",
    "w_dates  = fac_valid.pivot(index=\"cms_certification_number\", columns=\"grp_n\", values=\"association_date\")\n",
    "\n",
    "w_owners.columns = [f\"group{i}_owners\" for i in w_owners.columns]\n",
    "w_pcts.columns   = [f\"group{i}_pcts\"   for i in w_pcts.columns]\n",
    "w_dates.columns  = [f\"group{i}_date\"   for i in w_dates.columns]\n",
    "\n",
    "facility_signatures = (\n",
    "    pd.concat([w_owners, w_pcts, w_dates], axis=1)\n",
    "      .merge(canon_name, left_index=True, right_index=True, how=\"left\")\n",
    "      .reset_index()\n",
    ")\n",
    "\n",
    "# tidy column order\n",
    "import re as _re\n",
    "group_nums = sorted({int(_re.search(r\"group(\\d+)_\", c).group(1))\n",
    "                     for c in facility_signatures.columns if \"group\" in c})\n",
    "cols = [\"cms_certification_number\", \"provider_name\"]\n",
    "for n in group_nums:\n",
    "    cols += [f\"group{n}_owners\", f\"group{n}_pcts\", f\"group{n}_date\"]\n",
    "facility_signatures = facility_signatures[cols]\n",
    "\n",
    "print(f\"[final] facility_signatures shape: {facility_signatures.shape}\")"
   ]
  },
  {
   "cell_type": "code",
   "execution_count": 10,
   "id": "d1ac15ce-656c-4e94-aee2-e8aecdecb8fc",
   "metadata": {},
   "outputs": [
    {
     "name": "stdout",
     "output_type": "stream",
     "text": [
      "[save] wrote:\n",
      "  C:\\Repositories\\white_bowblis_nhmc\\data\\interim\\facility_signatures.csv\n",
      "  C:\\Repositories\\white_bowblis_nhmc\\data\\interim\\facility_signatures_missing_ccn.csv\n",
      "\n",
      "[check] CCN 015009 found\n",
      "\n",
      "[check] CCN 366123 found\n"
     ]
    }
   ],
   "source": [
    "# ────────────────────────────────────────────────────────────────────────────────\n",
    "# 7. Save outputs\n",
    "# ────────────────────────────────────────────────────────────────────────────────\n",
    "out_sig   = INTERIM_DIR / \"facility_signatures.csv\"\n",
    "out_miss  = INTERIM_DIR / \"facility_signatures_missing_ccn.csv\"\n",
    "\n",
    "facility_signatures.to_csv(out_sig, index=False)\n",
    "fac_missing.to_csv(out_miss, index=False)\n",
    "\n",
    "print(f\"[save] wrote:\\n  {out_sig}\\n  {out_miss}\")\n",
    "\n",
    "# quick sanity example\n",
    "for test_ccn in [\"015009\", \"366123\"]:\n",
    "    row = facility_signatures.query(\"cms_certification_number == @test_ccn\")\n",
    "    print(f\"\\n[check] CCN {test_ccn} {'found' if not row.empty else 'not found'}\")"
   ]
  },
  {
   "cell_type": "code",
   "execution_count": null,
   "id": "603761b5-8a86-4b3e-8b8a-6f628be14b7c",
   "metadata": {},
   "outputs": [],
   "source": []
  }
 ],
 "metadata": {
  "kernelspec": {
   "display_name": "Python [conda env:base] *",
   "language": "python",
   "name": "conda-base-py"
  },
  "language_info": {
   "codemirror_mode": {
    "name": "ipython",
    "version": 3
   },
   "file_extension": ".py",
   "mimetype": "text/x-python",
   "name": "python",
   "nbconvert_exporter": "python",
   "pygments_lexer": "ipython3",
   "version": "3.12.3"
  }
 },
 "nbformat": 4,
 "nbformat_minor": 5
}

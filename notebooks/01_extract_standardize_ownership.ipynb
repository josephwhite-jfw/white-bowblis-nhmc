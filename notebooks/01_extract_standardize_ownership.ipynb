{
 "cells": [
  {
   "cell_type": "code",
   "execution_count": 1,
   "id": "279060f2-1daa-40e7-995e-687dc812f374",
   "metadata": {},
   "outputs": [],
   "source": [
    "import os\n",
    "import zipfile\n",
    "from io import BytesIO\n",
    "from pathlib import Path\n",
    "import pandas as pd\n",
    "from tqdm.auto import tqdm"
   ]
  },
  {
   "cell_type": "code",
   "execution_count": 2,
   "id": "6fefebf5-1464-4d4a-8f3e-b4baa9637c6c",
   "metadata": {},
   "outputs": [],
   "source": [
    "# ------------------------------------------------------------------------------\n",
    "# 1. Project‐wide paths (portable)\n",
    "# ------------------------------------------------------------------------------\n",
    "PROJECT_ROOT = Path.cwd()\n",
    "while not (PROJECT_ROOT / \"src\").is_dir() and PROJECT_ROOT != PROJECT_ROOT.parent:\n",
    "    PROJECT_ROOT = PROJECT_ROOT.parent\n",
    "\n",
    "RAW_DIR     = Path(os.getenv(\"NH_DATA_DIR\", PROJECT_ROOT / \"data\" / \"raw\"))\n",
    "NH_ZIP_DIR  = RAW_DIR / \"nh-compare\"\n",
    "OWN_DIR     = RAW_DIR / \"ownership-files\"       # flat directory for cleaned CSVs\n",
    "OWN_DIR.mkdir(parents=True, exist_ok=True)"
   ]
  },
  {
   "cell_type": "code",
   "execution_count": 3,
   "id": "0be3d93c-e0b3-4c08-9d18-bc034172d186",
   "metadata": {},
   "outputs": [],
   "source": [
    "# ------------------------------------------------------------------------------\n",
    "# 2. Column mapping (normalized lowercase keys)\n",
    "# ------------------------------------------------------------------------------\n",
    "COLUMN_MAP = {\n",
    "    \"cms certification number (ccn)\":    \"cms_certification_number\",\n",
    "    \"federal provider number\":           \"cms_certification_number\",\n",
    "    \"provnum\":                           \"cms_certification_number\",\n",
    "    \"provider name\":                     \"provider_name\",\n",
    "    \"provname\":                          \"provider_name\",\n",
    "    \"role played by owner or manager in facility\": \"role\",\n",
    "    \"role played by owner in facility\":           \"role\",\n",
    "    \"role of owner or manager\":                    \"role\",\n",
    "    \"owner role\":                                   \"role\",\n",
    "    \"role_desc\":                                   \"role\",\n",
    "    \"role desc\":                                   \"role\",\n",
    "    \"owner type\":                                 \"owner_type\",\n",
    "    \"owner name\":                                 \"owner_name\",\n",
    "    \"ownership percentage\":                      \"ownership_percentage\",\n",
    "    \"owner percentage\":                         \"ownership_percentage\",\n",
    "    \"association date\":                          \"association_date\",\n",
    "    \"processing date\":                           \"processing_date\",\n",
    "    \"processingdate\":                            \"processing_date\",\n",
    "    \"process date\":                              \"processing_date\",\n",
    "    \"processdate\":                                \"processing_date\",\n",
    "    \"filedate\":                                   \"processing_date\",\n",
    "}"
   ]
  },
  {
   "cell_type": "code",
   "execution_count": 4,
   "id": "2059d1bf-43b7-4af9-8240-7de4f74c4397",
   "metadata": {},
   "outputs": [],
   "source": [
    "# ------------------------------------------------------------------------------\n",
    "# 3. Robust CSV reader\n",
    "# ------------------------------------------------------------------------------\n",
    "def safe_read_csv(raw: bytes) -> pd.DataFrame:\n",
    "    for enc in (\"utf-8\", \"latin-1\"):\n",
    "        try:\n",
    "            return pd.read_csv(BytesIO(raw), dtype=str, encoding=enc)\n",
    "        except Exception:\n",
    "            pass\n",
    "    return pd.read_csv(BytesIO(raw), dtype=str,\n",
    "                       encoding=\"utf-8\", encoding_errors=\"replace\")"
   ]
  },
  {
   "cell_type": "code",
   "execution_count": 5,
   "id": "3d974dab-2034-4af0-ada9-f26d3249ed09",
   "metadata": {},
   "outputs": [
    {
     "data": {
      "application/vnd.jupyter.widget-view+json": {
       "model_id": "0a7c53831f6d47ae9fb00ae1d3b8a6aa",
       "version_major": 2,
       "version_minor": 0
      },
      "text/plain": [
       "  0%|          | 0/9 [00:00<?, ?it/s]"
      ]
     },
     "metadata": {},
     "output_type": "display_data"
    }
   ],
   "source": [
    "# ------------------------------------------------------------------------------\n",
    "# 4. Extract → clean → write\n",
    "# ------------------------------------------------------------------------------\n",
    "OWN_PATTERNS = (\"Ownership_Download.csv\", \"NH_Ownership_\")\n",
    "summary = []\n",
    "\n",
    "for yearly_zip in tqdm(sorted(NH_ZIP_DIR.glob(\"nh_archive_*.zip\"))):\n",
    "    with zipfile.ZipFile(yearly_zip, \"r\") as yz:\n",
    "        for mzip in sorted(n for n in yz.namelist() if n.lower().endswith(\".zip\")):\n",
    "            parts = Path(mzip).stem.split(\"_\")\n",
    "            month, year = parts[-2], parts[-1]\n",
    "            with zipfile.ZipFile(BytesIO(yz.read(mzip)), \"r\") as mz:\n",
    "                for entry in mz.namelist():\n",
    "                    fname = Path(entry).name\n",
    "                    if not any(fname == p or fname.startswith(p) for p in OWN_PATTERNS):\n",
    "                        continue\n",
    "\n",
    "                    df = safe_read_csv(mz.read(entry))\n",
    "\n",
    "                    # --- normalize & fuzzy‐map headers ---\n",
    "                    new_cols = []\n",
    "                    for col in df.columns:\n",
    "                        key = col.strip().lower().replace(\"_\", \" \")\n",
    "                        if key in COLUMN_MAP:\n",
    "                            new_cols.append(COLUMN_MAP[key])\n",
    "                        elif \"percent\" in key:\n",
    "                            new_cols.append(\"ownership_percentage\")\n",
    "                        elif \"role\" in key:\n",
    "                            new_cols.append(\"role\")\n",
    "                        else:\n",
    "                            new_cols.append(key)\n",
    "                    df.columns = new_cols\n",
    "\n",
    "                    # --- annotate file/month/year/date ---\n",
    "                    out_name = f\"ownership_download_{month}_{year}.csv\"\n",
    "                    df[\"source_file\"] = out_name\n",
    "                    df[\"month\"]       = int(month)\n",
    "                    df[\"year\"]        = int(year)\n",
    "                    df[\"date\"]        = pd.to_datetime({\n",
    "                                            \"year\": df[\"year\"],\n",
    "                                            \"month\": df[\"month\"],\n",
    "                                            \"day\": 1\n",
    "                                        })\n",
    "\n",
    "                    # --- record null rates for key fields ---\n",
    "                    summary.append({\n",
    "                        \"file\": out_name,\n",
    "                        \"pct_null_role\": df[\"role\"].isna().mean()*100,\n",
    "                        \"pct_null_ownership_pct\": df[\"ownership_percentage\"].isna().mean()*100,\n",
    "                    })\n",
    "\n",
    "                    # --- keep only your 12 core columns ---\n",
    "                    keep = [\n",
    "                        \"cms_certification_number\",\n",
    "                        \"provider_name\",\n",
    "                        \"role\",\n",
    "                        \"owner_type\",\n",
    "                        \"owner_name\",\n",
    "                        \"ownership_percentage\",\n",
    "                        \"association_date\",\n",
    "                        \"processing_date\",\n",
    "                        \"source_file\",\n",
    "                        \"month\",\n",
    "                        \"year\",\n",
    "                        \"date\",\n",
    "                    ]\n",
    "                    df = df.loc[:, [c for c in keep if c in df.columns]]\n",
    "\n",
    "                    # --- write out cleaned file ---\n",
    "                    df.to_csv(OWN_DIR / out_name, index=False)"
   ]
  },
  {
   "cell_type": "code",
   "execution_count": 6,
   "id": "3fd1cd88-1083-4d01-9157-ff699be0b6e5",
   "metadata": {},
   "outputs": [],
   "source": [
    "# ------------------------------------------------------------------------------\n",
    "# 5. Combine\n",
    "# ------------------------------------------------------------------------------\n",
    "all_dfs = []\n",
    "for p in sorted(OWN_DIR.glob(\"ownership_download_*.csv\")):\n",
    "    all_dfs.append(pd.read_csv(p, dtype=str, parse_dates=[\"date\"]))\n",
    "\n",
    "combined = pd.concat(all_dfs, ignore_index=True)\n",
    "combined = combined.sort_values([\"cms_certification_number\", \"date\"])\n",
    "combined.to_csv(OWN_DIR / \"ownership_combined.csv\", index=False)"
   ]
  },
  {
   "cell_type": "code",
   "execution_count": 7,
   "id": "2f36a9b6-aa16-494c-b91a-a468745fc731",
   "metadata": {},
   "outputs": [
    {
     "name": "stdout",
     "output_type": "stream",
     "text": [
      "                                             total  nulls  pct_null\n",
      "role                                                               \n",
      "Ownership Data Not Available                 72733  72733     100.0\n",
      "5% OR GREATER DIRECT OWNERSHIP INTEREST    2157271      0       0.0\n",
      "5% OR GREATER INDIRECT OWNERSHIP INTEREST  2910876      0       0.0\n",
      "5% OR GREATER MORTGAGE INTEREST              57005      0       0.0\n",
      "5% OR GREATER SECURITY INTEREST              96978      0       0.0\n",
      "CONTRACTED MANAGING EMPLOYEE                  5303      0       0.0\n",
      "CORPORATE DIRECTOR                          203809      0       0.0\n",
      "CORPORATE OFFICER                           178971      0       0.0\n",
      "DIRECTOR                                   3287371      0       0.0\n",
      "GENERAL PARTNERSHIP INTEREST                  1135      0       0.0\n",
      "LIMITED PARTNERSHIP INTEREST                  1000      0       0.0\n",
      "MANAGING EMPLOYEE                          1971404      0       0.0\n",
      "OFFICER                                    2789665      0       0.0\n",
      "OPERATIONAL/MANAGERIAL CONTROL             2005393      0       0.0\n",
      "PARTNERSHIP INTEREST                        149723      0       0.0\n",
      "W-2 MANAGING EMPLOYEE                        27570      0       0.0\n",
      "\n",
      "--- ROLE NULL % ---\n",
      "count    99.0\n",
      "mean      0.0\n",
      "std       0.0\n",
      "min       0.0\n",
      "25%       0.0\n",
      "50%       0.0\n",
      "75%       0.0\n",
      "max       0.0\n",
      "Name: pct_null_role, dtype: float64\n",
      "\n",
      "--- OWNERSHIP % NULL % ---\n",
      "count    99.000000\n",
      "mean      0.455004\n",
      "std       0.069749\n",
      "min       0.368012\n",
      "25%       0.390297\n",
      "50%       0.455241\n",
      "75%       0.502956\n",
      "max       0.684719\n",
      "Name: pct_null_ownership_pct, dtype: float64\n",
      "\n",
      "✅ Cleaned files in C:\\Users\\Owner\\OneDrive\\NursingHomeData\\ownership-files; combined in ownership_combined.csv\n"
     ]
    }
   ],
   "source": [
    "# ------------------------------------------------------------------------------\n",
    "# 6. Review null‐summary\n",
    "# ------------------------------------------------------------------------------\n",
    "null_df = pd.DataFrame(summary)\n",
    "\n",
    "# Compute null‐rate of ownership_percentage by role\n",
    "role_nulls = (\n",
    "    combined\n",
    "    .assign(is_null_pct = combined[\"ownership_percentage\"].isna())\n",
    "    .groupby(\"role\")[\"is_null_pct\"]\n",
    "    .agg(total = \"size\", nulls = \"sum\")\n",
    ")\n",
    "role_nulls[\"pct_null\"] = role_nulls[\"nulls\"] / role_nulls[\"total\"] * 100\n",
    "\n",
    "# Sort and display\n",
    "role_nulls = role_nulls.sort_values(\"pct_null\", ascending=False)\n",
    "print(role_nulls[[\"total\",\"nulls\",\"pct_null\"]].round(2))\n",
    "print(\"\\n--- ROLE NULL % ---\")\n",
    "print(null_df[\"pct_null_role\"].describe())\n",
    "print(\"\\n--- OWNERSHIP % NULL % ---\")\n",
    "print(null_df[\"pct_null_ownership_pct\"].describe())\n",
    "print(f\"\\n✅ Cleaned files in {OWN_DIR}; combined in ownership_combined.csv\")"
   ]
  },
  {
   "cell_type": "code",
   "execution_count": 8,
   "id": "94e8c4b2-3da7-41a5-a9c1-ecc34f10acfe",
   "metadata": {},
   "outputs": [
    {
     "name": "stdout",
     "output_type": "stream",
     "text": [
      "15916207\n"
     ]
    }
   ],
   "source": [
    "print(len(combined))"
   ]
  }
 ],
 "metadata": {
  "kernelspec": {
   "display_name": "Python [conda env:base] *",
   "language": "python",
   "name": "conda-base-py"
  },
  "language_info": {
   "codemirror_mode": {
    "name": "ipython",
    "version": 3
   },
   "file_extension": ".py",
   "mimetype": "text/x-python",
   "name": "python",
   "nbconvert_exporter": "python",
   "pygments_lexer": "ipython3",
   "version": "3.12.3"
  }
 },
 "nbformat": 4,
 "nbformat_minor": 5
}

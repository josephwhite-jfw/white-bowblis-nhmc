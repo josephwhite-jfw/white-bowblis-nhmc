{
 "cells": [
  {
   "cell_type": "code",
   "execution_count": 2,
   "id": "d9628460-fc83-4963-b7c0-aee7c95eb084",
   "metadata": {},
   "outputs": [],
   "source": [
    "import os, re, shutil, zipfile, pandas as pd\n",
    "from pathlib import Path\n",
    "from tqdm.auto import tqdm"
   ]
  },
  {
   "cell_type": "code",
   "execution_count": 3,
   "id": "f996544b-123c-4c30-a726-e98838b51c97",
   "metadata": {},
   "outputs": [],
   "source": [
    "# ------------------------------------------------------------------------------\n",
    "# 1.  Project-wide paths (portable)\n",
    "# ------------------------------------------------------------------------------\n",
    "\n",
    "import os, re, shutil, zipfile, pandas as pd\n",
    "from pathlib import Path\n",
    "from tqdm.auto import tqdm\n",
    "\n",
    "# Use env-var if present; otherwise fall back to repo-relative path (for tests)\n",
    "PROJECT_ROOT = Path.cwd()\n",
    "while not (PROJECT_ROOT / \"src\").is_dir() and PROJECT_ROOT != PROJECT_ROOT.parent:\n",
    "    PROJECT_ROOT = PROJECT_ROOT.parent\n",
    "\n",
    "RAW_DIR      = Path(os.getenv(\"NH_DATA_DIR\",  PROJECT_ROOT / \"data\" / \"raw\"))\n",
    "NH_ZIP_DIR   = RAW_DIR / \"nh-compare\"\n",
    "OWN_DIR      = RAW_DIR / \"ownership-files\"        # extracted monthly CSVs\n",
    "OWN_DIR.mkdir(parents=True, exist_ok=True)\n",
    "\n",
    "INTERIM_DIR  = PROJECT_ROOT / \"data\" / \"interim\"\n",
    "INTERIM_DIR.mkdir(parents=True, exist_ok=True)"
   ]
  },
  {
   "cell_type": "code",
   "execution_count": 4,
   "id": "2ad50839-3024-4024-aa5a-1bd473e0edee",
   "metadata": {},
   "outputs": [],
   "source": [
    "# ------------------------------------------------------------------------------\n",
    "# 2. clean malformed filenames already on disk\n",
    "# ------------------------------------------------------------------------------\n",
    "\n",
    "for bad in OWN_DIR.glob(\"ownership_download_20_*.csv\"):\n",
    "    print(\"🗑️ Deleting malformed file:\", bad.name)\n",
    "    bad.unlink()"
   ]
  },
  {
   "cell_type": "code",
   "execution_count": 5,
   "id": "65dbe2af-b171-487a-ae29-716c231eb0dd",
   "metadata": {},
   "outputs": [
    {
     "data": {
      "application/vnd.jupyter.widget-view+json": {
       "model_id": "093e1919db234333b00558c4407b6601",
       "version_major": 2,
       "version_minor": 0
      },
      "text/plain": [
       "Yearly archives:   0%|          | 0/9 [00:00<?, ?it/s]"
      ]
     },
     "metadata": {},
     "output_type": "display_data"
    }
   ],
   "source": [
    "# ------------------------------------------------------------------------------\n",
    "# 3.  Extract the correct ownership CSV from every inner ZIP\n",
    "# ------------------------------------------------------------------------------\n",
    "\n",
    "for outer_zip in tqdm(sorted(NH_ZIP_DIR.glob(\"nh_archive_*.zip\")), desc=\"Yearly archives\"):\n",
    "    with zipfile.ZipFile(outer_zip) as z_out:\n",
    "        for inner_name in [n for n in z_out.namelist() if n.lower().endswith(\".zip\")]:\n",
    "            # Grab month / year from inner-ZIP filename\n",
    "            m = re.search(r\"_(\\d{2})_(\\d{4})\\.zip$\", inner_name)\n",
    "            if not m:\n",
    "                continue\n",
    "            mm, yyyy = map(int, m.groups())\n",
    "            new_fmt = (yyyy > 2020) or (yyyy == 2020 and mm >= 8)\n",
    "\n",
    "            with z_out.open(inner_name) as inner_bytes, zipfile.ZipFile(inner_bytes) as z_in:\n",
    "                for member in z_in.namelist():\n",
    "                    if not member.lower().endswith(\".csv\"):\n",
    "                        continue\n",
    "                    keep = (\n",
    "                        (not new_fmt and \"ownership_download\" in member.lower())\n",
    "                        or (new_fmt and \"nh_ownership_\" in member.lower())\n",
    "                    )\n",
    "                    if not keep:\n",
    "                        continue\n",
    "\n",
    "                    target = OWN_DIR / f\"ownership_download_{mm:02d}_{yyyy}.csv\"\n",
    "                    if target.exists():   # skip if we already extracted\n",
    "                        continue\n",
    "\n",
    "                    with z_in.open(member) as src, open(target, \"wb\") as dst:\n",
    "                        shutil.copyfileobj(src, dst)\n",
    "                        print(\"✅ Saved\", target.name)"
   ]
  },
  {
   "cell_type": "code",
   "execution_count": 6,
   "id": "dc656248-b47a-49df-b062-0e30dff9f3e6",
   "metadata": {},
   "outputs": [
    {
     "data": {
      "application/vnd.jupyter.widget-view+json": {
       "model_id": "a5c3ea6973234961b63e65a17e320ac6",
       "version_major": 2,
       "version_minor": 0
      },
      "text/plain": [
       "Monthly CSVs:   0%|          | 0/97 [00:00<?, ?it/s]"
      ]
     },
     "metadata": {},
     "output_type": "display_data"
    },
    {
     "name": "stdout",
     "output_type": "stream",
     "text": [
      "✅ Loaded ownership_download_01_2017.csv\n",
      "✅ Loaded ownership_download_01_2018.csv\n",
      "✅ Loaded ownership_download_01_2019.csv\n",
      "✅ Loaded ownership_download_01_2020.csv\n",
      "✅ Loaded ownership_download_01_2021.csv\n",
      "✅ Loaded ownership_download_01_2022.csv\n",
      "✅ Loaded ownership_download_01_2023.csv\n",
      "✅ Loaded ownership_download_01_2024.csv\n",
      "✅ Loaded ownership_download_02_2017.csv\n",
      "✅ Loaded ownership_download_02_2019.csv\n",
      "✅ Loaded ownership_download_02_2020.csv\n",
      "✅ Loaded ownership_download_02_2021.csv\n",
      "✅ Loaded ownership_download_02_2022.csv\n",
      "✅ Loaded ownership_download_02_2023.csv\n",
      "✅ Loaded ownership_download_02_2024.csv\n",
      "✅ Loaded ownership_download_02_2025.csv\n",
      "✅ Loaded ownership_download_03_2017.csv\n",
      "✅ Loaded ownership_download_03_2018.csv\n",
      "✅ Loaded ownership_download_03_2019.csv\n",
      "✅ Loaded ownership_download_03_2020.csv\n",
      "✅ Loaded ownership_download_03_2021.csv\n",
      "✅ Loaded ownership_download_03_2022.csv\n",
      "✅ Loaded ownership_download_03_2023.csv\n",
      "✅ Loaded ownership_download_03_2024.csv\n",
      "✅ Loaded ownership_download_03_2025.csv\n",
      "✅ Loaded ownership_download_04_2017.csv\n",
      "✅ Loaded ownership_download_04_2018.csv\n",
      "✅ Loaded ownership_download_04_2019.csv\n",
      "✅ Loaded ownership_download_04_2020.csv\n",
      "✅ Loaded ownership_download_04_2021.csv\n",
      "✅ Loaded ownership_download_04_2022.csv\n",
      "✅ Loaded ownership_download_04_2023.csv\n",
      "✅ Loaded ownership_download_04_2024.csv\n",
      "✅ Loaded ownership_download_04_2025.csv\n",
      "✅ Loaded ownership_download_05_2017.csv\n",
      "✅ Loaded ownership_download_05_2018.csv\n",
      "✅ Loaded ownership_download_05_2019.csv\n",
      "✅ Loaded ownership_download_05_2020.csv\n",
      "✅ Loaded ownership_download_05_2021.csv\n",
      "✅ Loaded ownership_download_05_2022.csv\n",
      "✅ Loaded ownership_download_05_2023.csv\n",
      "✅ Loaded ownership_download_05_2024.csv\n",
      "✅ Loaded ownership_download_05_2025.csv\n",
      "✅ Loaded ownership_download_06_2017.csv\n",
      "✅ Loaded ownership_download_06_2018.csv\n",
      "✅ Loaded ownership_download_06_2019.csv\n",
      "✅ Loaded ownership_download_06_2020.csv\n",
      "✅ Loaded ownership_download_06_2021.csv\n",
      "✅ Loaded ownership_download_06_2022.csv\n",
      "✅ Loaded ownership_download_06_2023.csv\n",
      "✅ Loaded ownership_download_06_2024.csv\n",
      "✅ Loaded ownership_download_07_2017.csv\n",
      "✅ Loaded ownership_download_07_2018.csv\n",
      "✅ Loaded ownership_download_07_2019.csv\n",
      "✅ Loaded ownership_download_07_2020.csv\n",
      "✅ Loaded ownership_download_07_2021.csv\n",
      "✅ Loaded ownership_download_07_2022.csv\n",
      "✅ Loaded ownership_download_07_2023.csv\n",
      "✅ Loaded ownership_download_07_2024.csv\n",
      "✅ Loaded ownership_download_08_2017.csv\n",
      "✅ Loaded ownership_download_08_2018.csv\n",
      "✅ Loaded ownership_download_08_2019.csv\n",
      "✅ Loaded ownership_download_08_2020.csv\n",
      "✅ Loaded ownership_download_08_2021.csv\n",
      "✅ Loaded ownership_download_08_2022.csv\n",
      "✅ Loaded ownership_download_08_2023.csv\n",
      "✅ Loaded ownership_download_08_2024.csv\n",
      "✅ Loaded ownership_download_09_2017.csv\n",
      "✅ Loaded ownership_download_09_2018.csv\n",
      "✅ Loaded ownership_download_09_2019.csv\n",
      "✅ Loaded ownership_download_09_2020.csv\n",
      "✅ Loaded ownership_download_09_2021.csv\n",
      "✅ Loaded ownership_download_09_2022.csv\n",
      "✅ Loaded ownership_download_09_2023.csv\n",
      "✅ Loaded ownership_download_09_2024.csv\n",
      "✅ Loaded ownership_download_10_2017.csv\n",
      "✅ Loaded ownership_download_10_2018.csv\n",
      "✅ Loaded ownership_download_10_2019.csv\n",
      "✅ Loaded ownership_download_10_2021.csv\n",
      "✅ Loaded ownership_download_10_2022.csv\n",
      "✅ Loaded ownership_download_10_2023.csv\n",
      "✅ Loaded ownership_download_10_2024.csv\n",
      "✅ Loaded ownership_download_11_2017.csv\n",
      "✅ Loaded ownership_download_11_2018.csv\n",
      "✅ Loaded ownership_download_11_2020.csv\n",
      "✅ Loaded ownership_download_11_2021.csv\n",
      "✅ Loaded ownership_download_11_2022.csv\n",
      "✅ Loaded ownership_download_11_2023.csv\n",
      "✅ Loaded ownership_download_11_2024.csv\n",
      "✅ Loaded ownership_download_12_2017.csv\n",
      "✅ Loaded ownership_download_12_2018.csv\n",
      "✅ Loaded ownership_download_12_2019.csv\n",
      "✅ Loaded ownership_download_12_2020.csv\n",
      "✅ Loaded ownership_download_12_2021.csv\n",
      "✅ Loaded ownership_download_12_2022.csv\n",
      "✅ Loaded ownership_download_12_2023.csv\n",
      "✅ Loaded ownership_download_12_2024.csv\n"
     ]
    }
   ],
   "source": [
    "# ------------------------------------------------------------------------------\n",
    "# 4.  Standardise columns, add metadata columns\n",
    "# ------------------------------------------------------------------------------\n",
    "\n",
    "COLUMN_MAP = {   # (exactly your original mapping)\n",
    "    \"cms certification number (ccn)\": \"cms_certification_number\",\n",
    "    \"federal provider number\": \"cms_certification_number\",\n",
    "    \"provnum\": \"cms_certification_number\",\n",
    "    \"provider name\": \"provider_name\",\n",
    "    \"provname\": \"provider_name\",\n",
    "    \"role played by owner or manager in facility\": \"role\",\n",
    "    \"role played by owner in facility\": \"role\",\n",
    "    \"role of owner or manager\": \"role\",\n",
    "    \"owner role\": \"role\",\n",
    "    \"role desc\": \"role\",\n",
    "    \"owner type\": \"owner_type\",\n",
    "    \"owner name\": \"owner_name\",\n",
    "    \"ownership percentage\": \"ownership_percentage\",\n",
    "    \"owner percentage\": \"ownership_percentage\",\n",
    "    \"association date\": \"association_date\",\n",
    "    \"processing date\": \"processing_date\",\n",
    "    \"processingdate\": \"processing_date\",\n",
    "    \"process date\": \"processing_date\",\n",
    "    \"processdate\": \"processing_date\",\n",
    "    \"filedate\": \"processing_date\",\n",
    "}\n",
    "TARGET_COLS = list(set(COLUMN_MAP.values()))\n",
    "\n",
    "def clean_col(c: str):\n",
    "    c = re.sub(r\"[^a-z0-9]+\", \" \", c.lower()).strip()\n",
    "    return COLUMN_MAP.get(c)\n",
    "\n",
    "dfs = []\n",
    "for csv_path in tqdm(sorted(OWN_DIR.glob(\"ownership_download_*.csv\")), desc=\"Monthly CSVs\"):\n",
    "    try:\n",
    "        df_raw = pd.read_csv(csv_path, dtype=str, encoding=\"utf-8\")\n",
    "    except UnicodeDecodeError:\n",
    "        df_raw = pd.read_csv(csv_path, dtype=str, encoding=\"ISO-8859-1\")\n",
    "\n",
    "    df = pd.DataFrame()\n",
    "    for raw, std in {c: clean_col(c) for c in df_raw.columns}.items():\n",
    "        if std in TARGET_COLS:\n",
    "            df[std] = df_raw[raw]\n",
    "            for col in TARGET_COLS:\n",
    "                if col not in df.columns:\n",
    "                    df[col] = pd.NA\n",
    "\n",
    "    mm, yyyy = map(int, re.search(r\"_(\\d{2})_(\\d{4})\\.csv$\", csv_path.name).groups())\n",
    "    df[\"source_file\"] = csv_path.stem\n",
    "    df[\"month\"] = mm\n",
    "    df[\"year\"] = yyyy\n",
    "    df[\"date\"] = pd.to_datetime({\"year\": df.year, \"month\": df.month, \"day\": 1})\n",
    "    dfs.append(df)\n",
    "    print(\"✅ Loaded\", csv_path.name)\n",
    "\n",
    "combined = pd.concat(dfs, ignore_index=True).sort_values(\"date\").reset_index(drop=True)"
   ]
  },
  {
   "cell_type": "code",
   "execution_count": 7,
   "id": "665d63fd-f4e5-4f52-979a-35e4d6c81ca4",
   "metadata": {},
   "outputs": [
    {
     "name": "stdout",
     "output_type": "stream",
     "text": [
      "🔍 filled 3,043,383 missing CCNs (still 314,102 null)\n"
     ]
    }
   ],
   "source": [
    "# ------------------------------------------------------------------------------\n",
    "# 5.  Fill missing CCNs where provider→CCN mapping is unique\n",
    "# ------------------------------------------------------------------------------\n",
    "\n",
    "def fill_ccn(df):\n",
    "    ccn, name = \"cms_certification_number\", \"provider_name\"\n",
    "    mapping = (\n",
    "        df.dropna(subset=[ccn])\n",
    "          .groupby(name, observed=True)[ccn]\n",
    "          .agg(lambda s: set(s))\n",
    "    )\n",
    "    unamb = mapping[mapping.str.len() == 1].apply(lambda s: next(iter(s)))\n",
    "    before = df[ccn].isna().sum()\n",
    "    df.loc[df[ccn].isna(), ccn] = df.loc[df[ccn].isna(), name].map(unamb)\n",
    "    after = df[ccn].isna().sum()\n",
    "    print(f\"🔍 filled {before-after:,} missing CCNs (still {after:,} null)\")\n",
    "    return df\n",
    "\n",
    "combined = fill_ccn(combined)"
   ]
  },
  {
   "cell_type": "code",
   "execution_count": 8,
   "id": "dc89642f-e04e-4f5e-9026-52e24ba3358d",
   "metadata": {},
   "outputs": [
    {
     "name": "stdout",
     "output_type": "stream",
     "text": [
      "💾 CSV written: C:\\Users\\Owner\\OneDrive\\NursingHomeData\\ownership-files\\ownership_combined.csv\n",
      "💾 Parquet written: C:\\Repositories\\white-bowblis-nhmc\\data\\interim\\ownership_combined.parquet\n",
      "📦 Final shape: (15621094, 12)\n"
     ]
    }
   ],
   "source": [
    "# ------------------------------------------------------------------------------\n",
    "# 6.  Save outputs\n",
    "# ------------------------------------------------------------------------------\n",
    "\n",
    "csv_out = OWN_DIR / \"ownership_combined.csv\"         # overwrite previous copy\n",
    "combined.to_csv(csv_out, index=False)\n",
    "print(\"💾 CSV written:\", csv_out)\n",
    "\n",
    "parq_out = INTERIM_DIR / \"ownership_combined.parquet\"\n",
    "combined.to_parquet(parq_out, index=False)\n",
    "print(\"💾 Parquet written:\", parq_out)\n",
    "\n",
    "print(\"📦 Final shape:\", combined.shape)"
   ]
  }
 ],
 "metadata": {
  "kernelspec": {
   "display_name": "Python 3 (ipykernel)",
   "language": "python",
   "name": "python3"
  },
  "language_info": {
   "codemirror_mode": {
    "name": "ipython",
    "version": 3
   },
   "file_extension": ".py",
   "mimetype": "text/x-python",
   "name": "python",
   "nbconvert_exporter": "python",
   "pygments_lexer": "ipython3",
   "version": "3.13.2"
  }
 },
 "nbformat": 4,
 "nbformat_minor": 5
}

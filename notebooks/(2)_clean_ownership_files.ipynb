{
 "cells": [
  {
   "cell_type": "code",
   "execution_count": 12,
   "id": "f4e9ba06-0f3e-41e6-8d6b-0a3369b6bead",
   "metadata": {},
   "outputs": [],
   "source": [
    "import pandas as pd \n",
    "import numpy as np\n",
    "import re\n",
    "import os\n",
    "from pathlib import Path\n",
    "from datetime import date"
   ]
  },
  {
   "cell_type": "code",
   "execution_count": 4,
   "id": "9db31593-8580-49ae-9976-6c471b1344ba",
   "metadata": {},
   "outputs": [
    {
     "name": "stdout",
     "output_type": "stream",
     "text": [
      "STEP 0  raw → 15,621,094 rows from C:\\Users\\Owner\\OneDrive\\Documents\\Honors_Thesis\\data\\data-raw\\ownership-files\\ownership_combined.csv\n"
     ]
    }
   ],
   "source": [
    "# ── 0. Load raw once ─────────────────────────────────────────────────────\n",
    "csv_path = (\n",
    "    Path(os.environ[\"OneDrive\"]) /\n",
    "    \"Documents\" / \"Honors_Thesis\" / \"data\" / \"data-raw\" / \"ownership-files\" /\n",
    "    \"ownership_combined.csv\"\n",
    ")\n",
    "\n",
    "if not csv_path.is_file():\n",
    "    raise FileNotFoundError(f\"Expected CSV not found: {csv_path}\")\n",
    "\n",
    "df = pd.read_csv(\n",
    "    csv_path,\n",
    "    dtype={\"cms_certification_number\": \"string\"},   # keep leading zeros\n",
    "    low_memory=False\n",
    ")\n",
    "print(f\"STEP 0  raw → {len(df):,} rows from {csv_path}\")"
   ]
  },
  {
   "cell_type": "code",
   "execution_count": 5,
   "id": "3dcf90d1-c9d5-474b-b650-32693b1623c6",
   "metadata": {},
   "outputs": [
    {
     "name": "stdout",
     "output_type": "stream",
     "text": [
      "STEP 1  role‑filter → 5,121,498\n"
     ]
    }
   ],
   "source": [
    "# ── 1. Keep only the roles of interest (plus NaNs) ───────────────────────\n",
    "target_roles = [\n",
    "    \"5% OR GREATER DIRECT OWNERSHIP INTEREST\",\n",
    "    \"5% OR GREATER INDIRECT OWNERSHIP INTEREST\",\n",
    "    \"PARTNERSHIP INTEREST\",\n",
    "]\n",
    "role_regex = re.compile(\"|\".join(map(re.escape, target_roles)), flags=re.IGNORECASE)\n",
    "\n",
    "mask_roles = df[\"role\"].fillna(\"\").str.contains(role_regex)\n",
    "df = df[mask_roles | df[\"role\"].isna()].copy()\n",
    "print(f\"STEP 1  role‑filter → {len(df):,}\")"
   ]
  },
  {
   "cell_type": "code",
   "execution_count": 6,
   "id": "0520ea20-a239-4b51-b8da-243929bb1f6f",
   "metadata": {},
   "outputs": [
    {
     "name": "stdout",
     "output_type": "stream",
     "text": [
      "STEP 2  de‑dup      → 162,904\n"
     ]
    }
   ],
   "source": [
    "# ── 2. De‑duplicate identical ownership snapshots ───────────────────────\n",
    "dedup_cols = [\n",
    "    \"cms_certification_number\", \"provider_name\",\n",
    "    \"role\", \"owner_type\", \"owner_name\",\n",
    "    \"ownership_percentage\", \"association_date\"\n",
    "]\n",
    "df = (\n",
    "    df.sort_values(\"processing_date\")          # oldest → newest\n",
    "      .drop_duplicates(subset=dedup_cols, keep=\"last\")\n",
    "      .reset_index(drop=True)\n",
    ")\n",
    "print(f\"STEP 2  de‑dup      → {len(df):,}\")"
   ]
  },
  {
   "cell_type": "code",
   "execution_count": 14,
   "id": "2249253e-8731-41a2-b221-edeefa67c873",
   "metadata": {},
   "outputs": [
    {
     "name": "stdout",
     "output_type": "stream",
     "text": [
      "Saved: C:\\Users\\Owner\\OneDrive\\Documents\\Honors_Thesis\\data\\data\\ownership_file_clean.csv\n"
     ]
    }
   ],
   "source": [
    "out_csv = (\n",
    "    Path(os.environ[\"OneDrive\"]) /\n",
    "    \"Documents\" / \"Honors_Thesis\" / \"data\" / \"data\" /\n",
    "    \"ownership_file_clean.csv\"\n",
    ")\n",
    "\n",
    "# Ensure directory exists\n",
    "out_csv.parent.mkdir(parents=True, exist_ok=True)\n",
    "\n",
    "# Save\n",
    "df.to_csv(out_csv, index=False)\n",
    "print(\"Saved:\", out_csv)"
   ]
  },
  {
   "cell_type": "code",
   "execution_count": null,
   "id": "58b1a0c7-3c21-4e16-8402-ae7c0e620eef",
   "metadata": {},
   "outputs": [],
   "source": []
  }
 ],
 "metadata": {
  "kernelspec": {
   "display_name": "Python [conda env:base] *",
   "language": "python",
   "name": "conda-base-py"
  },
  "language_info": {
   "codemirror_mode": {
    "name": "ipython",
    "version": 3
   },
   "file_extension": ".py",
   "mimetype": "text/x-python",
   "name": "python",
   "nbconvert_exporter": "python",
   "pygments_lexer": "ipython3",
   "version": "3.12.7"
  }
 },
 "nbformat": 4,
 "nbformat_minor": 5
}

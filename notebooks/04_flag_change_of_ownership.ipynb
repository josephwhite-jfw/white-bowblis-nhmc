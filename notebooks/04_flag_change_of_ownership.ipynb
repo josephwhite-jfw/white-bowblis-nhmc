{
 "cells": [
  {
   "cell_type": "code",
   "execution_count": 1,
   "id": "807a5892-ac93-4ea9-9ceb-f895ffcb72c2",
   "metadata": {},
   "outputs": [
    {
     "name": "stdout",
     "output_type": "stream",
     "text": [
      "INPUT : C:\\Repositories\\white_bowblis_nhmc\\data\\interim\\facility_signatures.csv\n",
      "OUTPUT: C:\\Repositories\\white_bowblis_nhmc\\data\\interim\\facility_signatures_groupflags.csv\n"
     ]
    }
   ],
   "source": [
    "# ────────────────────────────────────────────────────────────────────────────────\n",
    "# 0.  Portable path setup  (no src import required)\n",
    "# ────────────────────────────────────────────────────────────────────────────────\n",
    "import os, re, pathlib, pandas as pd, numpy as np\n",
    "\n",
    "# locate repo root (folder that contains \"data\")\n",
    "PROJECT_ROOT = pathlib.Path.cwd()\n",
    "while not (PROJECT_ROOT / \"data\").is_dir() and PROJECT_ROOT != PROJECT_ROOT.parent:\n",
    "    PROJECT_ROOT = PROJECT_ROOT.parent\n",
    "\n",
    "RAW_DIR      = pathlib.Path(os.getenv(\"NH_DATA_DIR\", PROJECT_ROOT / \"data\" / \"raw\"))\n",
    "INTERIM_DIR  = PROJECT_ROOT / \"data\" / \"interim\"\n",
    "INTERIM_DIR.mkdir(parents=True, exist_ok=True)\n",
    "\n",
    "SIG_PATH  = INTERIM_DIR / \"facility_signatures.csv\"\n",
    "OUT_PATH  = INTERIM_DIR / \"facility_signatures_groupflags.csv\"\n",
    "print(\"INPUT :\", SIG_PATH)\n",
    "print(\"OUTPUT:\", OUT_PATH)\n",
    "\n",
    "# config\n",
    "THRESH        = 50.0                       # percent-equity turnover to flag\n",
    "CUTOFF_DATE   = pd.Timestamp(\"2017-01-01\") # ignore changes before this\n",
    "USE_SURNAME_OVERRIDE = True                # keep flag off if surnames overlap"
   ]
  },
  {
   "cell_type": "code",
   "execution_count": 2,
   "id": "24ecc447-fdd4-42df-bbe1-b3560bde23ea",
   "metadata": {},
   "outputs": [
    {
     "name": "stdout",
     "output_type": "stream",
     "text": [
      "[load] 13,893 rows, 50 cols\n",
      "[groups] detected: [1, 2, 3, 4, 5, 6, 7, 8, 9, 10, 11, 12, 13, 14, 15, 16]\n"
     ]
    }
   ],
   "source": [
    "# ────────────────────────────────────────────────────────────────────────────────\n",
    "# 1. Load signature-wide table & detect group numbers\n",
    "# ────────────────────────────────────────────────────────────────────────────────\n",
    "sig = pd.read_csv(SIG_PATH, dtype={\"cms_certification_number\":\"string\"}, low_memory=False)\n",
    "print(f\"[load] {len(sig):,} rows, {sig.shape[1]} cols\")\n",
    "\n",
    "# drop any legacy chow columns\n",
    "sig = sig.loc[:, ~sig.columns.str.startswith(\"chow\")]\n",
    "group_nums = sorted(\n",
    "    int(m.group(1))\n",
    "    for c in sig.columns\n",
    "    if (m := re.search(r\"group(\\d+)_owners$\", c))\n",
    ")\n",
    "print(\"[groups] detected:\", group_nums)"
   ]
  },
  {
   "cell_type": "code",
   "execution_count": 3,
   "id": "50d040d2-1cbf-4cdd-84cc-8fd4167aa0a7",
   "metadata": {},
   "outputs": [
    {
     "name": "stdout",
     "output_type": "stream",
     "text": [
      "[long] 38,124 group rows\n"
     ]
    }
   ],
   "source": [
    "# ────────────────────────────────────────────────────────────────────────────────\n",
    "# 2. WIDE → LONG helper\n",
    "# ────────────────────────────────────────────────────────────────────────────────\n",
    "def sig_wide_to_long(sig_df, group_nums):\n",
    "    recs = []\n",
    "    for _, row in sig_df.iterrows():\n",
    "        ccn  = row[\"cms_certification_number\"]\n",
    "        prov = row[\"provider_name\"]\n",
    "        for n in group_nums:\n",
    "            owners = row.get(f\"group{n}_owners\")\n",
    "            pcts   = row.get(f\"group{n}_pcts\")\n",
    "            date   = row.get(f\"group{n}_date\")\n",
    "            if (pd.isna(owners) or owners == \"\") and (pd.isna(date) or date == \"\"):\n",
    "                continue\n",
    "            recs.append((ccn, prov, n, owners, pcts, date))\n",
    "    long = pd.DataFrame(\n",
    "        recs,\n",
    "        columns=[\"cms_certification_number\",\"provider_name\",\"grp_n\",\n",
    "                 \"owners\",\"pcts\",\"date_str\"]\n",
    "    )\n",
    "    long[\"date\"] = pd.to_datetime(long[\"date_str\"], errors=\"coerce\")\n",
    "    return long\n",
    "\n",
    "long = sig_wide_to_long(sig, group_nums)\n",
    "print(f\"[long] {len(long):,} group rows\")"
   ]
  },
  {
   "cell_type": "code",
   "execution_count": 4,
   "id": "1948b8bb-ef20-4e7f-895e-9ac5d64eded6",
   "metadata": {},
   "outputs": [],
   "source": [
    "# ────────────────────────────────────────────────────────────────────────────────\n",
    "# 3. Parse owner strings & percentage lists\n",
    "# ────────────────────────────────────────────────────────────────────────────────\n",
    "split_pipe = lambda s: [] if pd.isna(s) or s==\"\" else [x.strip() for x in str(s).split(\"|\")]\n",
    "pct_re  = re.compile(r\"(\\d+(?:\\.\\d+)?)\")\n",
    "pct_float = lambda s: float(pct_re.search(str(s)).group(1)) if pct_re.search(str(s)) else np.nan\n",
    "\n",
    "long[\"owners_list\"] = long[\"owners\"].apply(split_pipe)\n",
    "long[\"pcts_list\"]   = long[\"pcts\"].apply(split_pipe)\n",
    "long[\"pcts_num\"]    = long[\"pcts_list\"].apply(lambda lst: [pct_float(x) for x in lst])"
   ]
  },
  {
   "cell_type": "code",
   "execution_count": 5,
   "id": "6078345f-9404-4fb5-b843-0dc80b0a6f88",
   "metadata": {},
   "outputs": [],
   "source": [
    "# ────────────────────────────────────────────────────────────────────────────────\n",
    "# 4. Compute percent-equity turnover vs previous group\n",
    "# ────────────────────────────────────────────────────────────────────────────────\n",
    "def pct_turnover(prev, curr):\n",
    "    prev_d = {o:p for o,p in zip(prev[\"owners_list\"], prev[\"pcts_num\"]) if not np.isnan(p)}\n",
    "    curr_d = {o:p for o,p in zip(curr[\"owners_list\"], curr[\"pcts_num\"]) if not np.isnan(p)}\n",
    "    if not prev_d and not curr_d:\n",
    "        return np.nan\n",
    "    all_owners = set(prev_d) | set(curr_d)\n",
    "    diff = sum(abs(curr_d.get(o,0.0) - prev_d.get(o,0.0)) for o in all_owners)\n",
    "    return diff / 2.0\n",
    "\n",
    "long = long.sort_values([\"cms_certification_number\",\"date\",\"grp_n\"]).reset_index(drop=True)\n",
    "long[\"turnover\"] = np.nan\n",
    "for ccn, idxs in long.groupby(\"cms_certification_number\").groups.items():\n",
    "    idxs = sorted(idxs)\n",
    "    for i in range(1, len(idxs)):\n",
    "        long.loc[idxs[i], \"turnover\"] = pct_turnover(long.loc[idxs[i-1]], long.loc[idxs[i]])"
   ]
  },
  {
   "cell_type": "code",
   "execution_count": 6,
   "id": "a74ad8ca-d23f-47a7-a477-0c62f58535a0",
   "metadata": {},
   "outputs": [],
   "source": [
    "# ────────────────────────────────────────────────────────────────────────────────\n",
    "# 5. Surname continuity override\n",
    "# ────────────────────────────────────────────────────────────────────────────────\n",
    "surname_set = lambda lst: { (n.split(\",\")[0] if \",\" in n else n.split()[0]).strip().upper()\n",
    "                            for n in lst if n.strip() }\n",
    "\n",
    "long[\"surnames_set\"] = long[\"owners_list\"].apply(surname_set)\n",
    "long[\"surname_overlap_prev\"] = False\n",
    "if USE_SURNAME_OVERRIDE:\n",
    "    for ccn, idxs in long.groupby(\"cms_certification_number\").groups.items():\n",
    "        idxs = sorted(idxs)\n",
    "        for i in range(1, len(idxs)):\n",
    "            overlap = bool(long.loc[idxs[i-1],\"surnames_set\"] & long.loc[idxs[i], \"surnames_set\"])\n",
    "            long.loc[idxs[i], \"surname_overlap_prev\"] = overlap"
   ]
  },
  {
   "cell_type": "code",
   "execution_count": 7,
   "id": "d6e9bee4-9e65-4266-9efd-ee952ebc2351",
   "metadata": {},
   "outputs": [
    {
     "name": "stdout",
     "output_type": "stream",
     "text": [
      "[chow] groups flagged: 7,111\n"
     ]
    }
   ],
   "source": [
    "# ────────────────────────────────────────────────────────────────────────────────\n",
    "# 6. Apply ChOW rules\n",
    "# ────────────────────────────────────────────────────────────────────────────────\n",
    "long[\"is_chow\"]  = False\n",
    "long[\"chow_date\"] = pd.NaT\n",
    "\n",
    "for ccn, idxs in long.groupby(\"cms_certification_number\").groups.items():\n",
    "    idxs = sorted(idxs)\n",
    "    # baseline group (group1)\n",
    "    first = idxs[0]\n",
    "    if pd.notna(long.loc[first,\"date\"]) and long.loc[first,\"date\"] >= CUTOFF_DATE:\n",
    "        long.loc[first,\"is_chow\"] = True\n",
    "        long.loc[first,\"chow_date\"] = long.loc[first,\"date\"]\n",
    "    # subsequent groups\n",
    "    for i in range(1, len(idxs)):\n",
    "        condition = (\n",
    "            (long.loc[idxs[i],\"turnover\"] >= THRESH) &\n",
    "            (long.loc[idxs[i],\"date\"] >= CUTOFF_DATE)\n",
    "        )\n",
    "        if USE_SURNAME_OVERRIDE:\n",
    "            condition &= ~long.loc[idxs[i],\"surname_overlap_prev\"]\n",
    "        if condition:\n",
    "            long.loc[idxs[i],\"is_chow\"] = True\n",
    "            long.loc[idxs[i],\"chow_date\"] = long.loc[idxs[i],\"date\"]\n",
    "\n",
    "print(f\"[chow] groups flagged: {long['is_chow'].sum():,}\")"
   ]
  },
  {
   "cell_type": "code",
   "execution_count": 8,
   "id": "cac1cdb8-5c8b-44a9-9d6f-2afd230756a2",
   "metadata": {},
   "outputs": [
    {
     "name": "stdout",
     "output_type": "stream",
     "text": [
      "[final] facility_signatures_groupflags shape: (13893, 82)\n"
     ]
    },
    {
     "name": "stderr",
     "output_type": "stream",
     "text": [
      "C:\\Users\\Owner\\AppData\\Local\\Temp\\ipykernel_19612\\2081827265.py:4: FutureWarning: Downcasting object dtype arrays on .fillna, .ffill, .bfill is deprecated and will change in a future version. Call result.infer_objects(copy=False) instead. To opt-in to the future behavior, set `pd.set_option('future.no_silent_downcasting', True)`\n",
      "  w_is  = long.pivot(index=\"cms_certification_number\", columns=\"grp_n\", values=\"is_chow\").fillna(False)\n"
     ]
    }
   ],
   "source": [
    "# ────────────────────────────────────────────────────────────────────────────────\n",
    "# 7. LONG → WIDE  (is_chow, chow_date flags)\n",
    "# ────────────────────────────────────────────────────────────────────────────────\n",
    "w_is  = long.pivot(index=\"cms_certification_number\", columns=\"grp_n\", values=\"is_chow\").fillna(False)\n",
    "w_cd  = long.pivot(index=\"cms_certification_number\", columns=\"grp_n\", values=\"chow_date\")\n",
    "\n",
    "w_is.columns = [f\"group{n}_is_chow\"  for n in w_is.columns]\n",
    "w_cd.columns = [f\"group{n}_chow_date\" for n in w_cd.columns]\n",
    "w_is = w_is.replace({True:\"Yes\", False:\"\"})\n",
    "\n",
    "# combine with original signature-wide table\n",
    "sig_chow = (\n",
    "    sig.set_index(\"cms_certification_number\")\n",
    "       .join(w_is, how=\"left\")\n",
    "       .join(w_cd, how=\"left\")\n",
    "       .reset_index()\n",
    ")\n",
    "\n",
    "# reorder columns\n",
    "def order_cols(df):\n",
    "    grp_nums = sorted(int(re.search(r\"group(\\d+)_owners$\", c).group(1))\n",
    "                      for c in df.columns if re.search(r\"group(\\d+)_owners$\", c))\n",
    "    cols = [\"cms_certification_number\", \"provider_name\"]\n",
    "    for n in grp_nums:\n",
    "        cols += [f\"group{n}_owners\", f\"group{n}_pcts\", f\"group{n}_date\",\n",
    "                 f\"group{n}_is_chow\", f\"group{n}_chow_date\"]\n",
    "    return cols\n",
    "\n",
    "sig_chow = sig_chow[order_cols(sig_chow)]\n",
    "print(f\"[final] facility_signatures_groupflags shape: {sig_chow.shape}\")"
   ]
  },
  {
   "cell_type": "code",
   "execution_count": 9,
   "id": "c8b9a796-6f1e-4484-846d-fc12a06571c0",
   "metadata": {},
   "outputs": [
    {
     "name": "stdout",
     "output_type": "stream",
     "text": [
      "[save] wrote C:\\Repositories\\white_bowblis_nhmc\\data\\interim\\facility_signatures_groupflags.csv\n"
     ]
    }
   ],
   "source": [
    "# ────────────────────────────────────────────────────────────────────────────────\n",
    "# 8. SAVE\n",
    "# ────────────────────────────────────────────────────────────────────────────────\n",
    "sig_chow.to_csv(OUT_PATH, index=False)\n",
    "print(f\"[save] wrote {OUT_PATH}\")"
   ]
  },
  {
   "cell_type": "code",
   "execution_count": null,
   "id": "932e6e56-1e1e-4b13-84e5-68100364d555",
   "metadata": {},
   "outputs": [],
   "source": []
  }
 ],
 "metadata": {
  "kernelspec": {
   "display_name": "Python [conda env:base] *",
   "language": "python",
   "name": "conda-base-py"
  },
  "language_info": {
   "codemirror_mode": {
    "name": "ipython",
    "version": 3
   },
   "file_extension": ".py",
   "mimetype": "text/x-python",
   "name": "python",
   "nbconvert_exporter": "python",
   "pygments_lexer": "ipython3",
   "version": "3.12.3"
  }
 },
 "nbformat": 4,
 "nbformat_minor": 5
}

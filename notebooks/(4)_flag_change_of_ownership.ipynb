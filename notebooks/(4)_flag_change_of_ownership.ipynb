{
 "cells": [
  {
   "cell_type": "code",
   "execution_count": 10,
   "id": "63806bdd-1581-473d-adb0-d49f5dea196e",
   "metadata": {},
   "outputs": [],
   "source": [
    "import pandas as pd, numpy as np, re\n",
    "from pathlib import Path"
   ]
  },
  {
   "cell_type": "code",
   "execution_count": 16,
   "id": "2b71aa76-86fb-44e2-8bd5-6c61170beef8",
   "metadata": {},
   "outputs": [],
   "source": [
    "# ------------------------------------------------------------------\n",
    "# CONFIG\n",
    "# ------------------------------------------------------------------\n",
    "SIG_PATH = Path(r\"C:\\Users\\wrthj\\OneDrive\\Documents\\Honors_Thesis\\data\\data\\facility_signatures.csv\")\n",
    "OUT_PATH = SIG_PATH.with_name(\"facility_signatures_groupflags.csv\")\n",
    "\n",
    "THRESH      = 50.0                         # % equity turnover to mark ChOW\n",
    "CUTOFF_DATE = pd.Timestamp(\"2017-01-01\")   # ignore earlier changes\n",
    "USE_SURNAME_OVERRIDE = True                # turn off ChOW if family continuity"
   ]
  },
  {
   "cell_type": "code",
   "execution_count": 17,
   "id": "8fe0cf47-8041-4781-8566-bfc50a65cd9c",
   "metadata": {},
   "outputs": [
    {
     "name": "stdout",
     "output_type": "stream",
     "text": [
      "[load] 13,893 rows, 50 cols.\n",
      "[clean] after dropping legacy chow cols: 50 columns.\n",
      "[groups] detected: [1, 2, 3, 4, 5, 6, 7, 8, 9, 10, 11, 12, 13, 14, 15, 16]\n"
     ]
    }
   ],
   "source": [
    "# ------------------------------------------------------------------\n",
    "# 1. LOAD signature-wide table\n",
    "#    (drop any old chow columns if present)\n",
    "# ------------------------------------------------------------------\n",
    "sig = pd.read_csv(SIG_PATH, dtype={\"cms_certification_number\":\"string\"}, low_memory=False)\n",
    "print(f\"[load] {sig.shape[0]:,} rows, {sig.shape[1]} cols.\")\n",
    "\n",
    "# drop legacy chow columns defensively\n",
    "sig = sig.loc[:, ~sig.columns.str.startswith(\"chow\")]\n",
    "print(f\"[clean] after dropping legacy chow cols: {sig.shape[1]} columns.\")\n",
    "\n",
    "# detect group numbers present\n",
    "group_pat = re.compile(r\"group(\\d+)_owners$\")\n",
    "group_nums = sorted(int(group_pat.search(c).group(1)) for c in sig.columns if group_pat.search(c))\n",
    "print(f\"[groups] detected: {group_nums}\")"
   ]
  },
  {
   "cell_type": "code",
   "execution_count": 27,
   "id": "0514a261-edc8-41ad-af50-ea417225cd33",
   "metadata": {},
   "outputs": [
    {
     "name": "stdout",
     "output_type": "stream",
     "text": [
      "[long] 38,092 group rows.\n"
     ]
    }
   ],
   "source": [
    "\n",
    "# =============================================================================\n",
    "# WIDE → LONG\n",
    "# =============================================================================\n",
    "def sig_wide_to_long(sig_df, group_nums):\n",
    "    recs = []\n",
    "    for _, row in sig_df.iterrows():\n",
    "        ccn  = row[\"cms_certification_number\"]\n",
    "        prov = row[\"provider_name\"]\n",
    "        for n in group_nums:\n",
    "            owners = row.get(f\"group{n}_owners\")\n",
    "            pcts   = row.get(f\"group{n}_pcts\")\n",
    "            date   = row.get(f\"group{n}_date\")\n",
    "            if (pd.isna(owners) or owners == \"\") and (pd.isna(date) or date == \"\"):\n",
    "                continue\n",
    "            recs.append((ccn, prov, n, owners, pcts, date))\n",
    "    out = pd.DataFrame(recs, columns=[\"cms_certification_number\",\"provider_name\",\"grp_n\",\"owners\",\"pcts\",\"date_str\"])\n",
    "    out[\"date\"] = pd.to_datetime(out[\"date_str\"], errors=\"coerce\")\n",
    "    return out\n",
    "\n",
    "long = sig_wide_to_long(sig, group_nums)\n",
    "print(f\"[long] {len(long):,} group rows.\")"
   ]
  },
  {
   "cell_type": "code",
   "execution_count": 28,
   "id": "a2a31ae2-9f88-42ca-a7f0-d422f540f2a5",
   "metadata": {},
   "outputs": [],
   "source": [
    "# =============================================================================\n",
    "# PARSE OWNERS & %s\n",
    "# =============================================================================\n",
    "def split_pipe(s):\n",
    "    if pd.isna(s) or s == \"\":\n",
    "        return []\n",
    "    return [x.strip() for x in str(s).split(\"|\")]\n",
    "\n",
    "pct_re = re.compile(r\"(\\d+(?:\\.\\d+)?)\")\n",
    "def pct_to_float(s):\n",
    "    m = pct_re.search(str(s))\n",
    "    return float(m.group(1)) if m else np.nan\n",
    "\n",
    "long[\"owners_list\"] = long[\"owners\"].apply(split_pipe)\n",
    "long[\"pcts_list\"]   = long[\"pcts\"].apply(split_pipe)\n",
    "long[\"pcts_num\"]    = long[\"pcts_list\"].apply(lambda lst: [pct_to_float(x) for x in lst])"
   ]
  },
  {
   "cell_type": "code",
   "execution_count": 29,
   "id": "b6124ba9-d856-48c4-b189-6b733554a7aa",
   "metadata": {},
   "outputs": [],
   "source": [
    "# =============================================================================\n",
    "# TURNOVER vs PREVIOUS GROUP (numeric % only)\n",
    "# =============================================================================\n",
    "def pct_turnover(prev, curr):\n",
    "    prev_d = {o:p for o,p in zip(prev[\"owners_list\"], prev[\"pcts_num\"]) if not np.isnan(p)}\n",
    "    curr_d = {o:p for o,p in zip(curr[\"owners_list\"], curr[\"pcts_num\"]) if not np.isnan(p)}\n",
    "    if not prev_d and not curr_d:\n",
    "        return np.nan\n",
    "    all_owners = set(prev_d) | set(curr_d)\n",
    "    diff = sum(abs(curr_d.get(o,0.0) - prev_d.get(o,0.0)) for o in all_owners)\n",
    "    return diff / 2.0\n",
    "\n",
    "long = long.sort_values([\"cms_certification_number\",\"date\",\"grp_n\"]).reset_index(drop=True)\n",
    "long[\"turnover\"] = np.nan\n",
    "for ccn, idxs in long.groupby(\"cms_certification_number\").groups.items():\n",
    "    idxs = sorted(list(idxs))\n",
    "    for i in range(1, len(idxs)):\n",
    "        long.loc[idxs[i], \"turnover\"] = pct_turnover(long.loc[idxs[i-1]], long.loc[idxs[i]])"
   ]
  },
  {
   "cell_type": "code",
   "execution_count": 31,
   "id": "7ef653ef-f883-4a8e-bdd0-a67d72be295d",
   "metadata": {},
   "outputs": [],
   "source": [
    "# =============================================================================\n",
    "# SURNAME CONTINUITY\n",
    "# =============================================================================\n",
    "def surname_set(lst):\n",
    "    out = set()\n",
    "    for n in lst:\n",
    "        n = n.strip()\n",
    "        if not n:\n",
    "            continue\n",
    "        if \",\" in n:\n",
    "            out.add(n.split(\",\")[0].strip().upper())\n",
    "        else:\n",
    "            out.add(n.split()[0].strip().upper())\n",
    "    return out\n",
    "\n",
    "long[\"surnames_set\"] = long[\"owners_list\"].apply(surname_set)\n",
    "long[\"surname_overlap_prev\"] = False\n",
    "if USE_SURNAME_OVERRIDE:\n",
    "    for ccn, idxs in long.groupby(\"cms_certification_number\").groups.items():\n",
    "        idxs = sorted(list(idxs))\n",
    "        for i in range(1, len(idxs)):\n",
    "            overlap = bool(long.loc[idxs[i-1], \"surnames_set\"] & long.loc[idxs[i], \"surnames_set\"])\n",
    "            long.loc[idxs[i], \"surname_overlap_prev\"] = overlap"
   ]
  },
  {
   "cell_type": "code",
   "execution_count": 33,
   "id": "23c3da69-3676-437e-aeaa-98d5dbd644e4",
   "metadata": {},
   "outputs": [
    {
     "name": "stdout",
     "output_type": "stream",
     "text": [
      "[chow] groups flagged: 7,089\n"
     ]
    }
   ],
   "source": [
    "# =============================================================================\n",
    "# APPLY CHOW RULES\n",
    "# =============================================================================\n",
    "long[\"is_chow\"] = False\n",
    "\n",
    "# Baseline groups: group1 is ChOW if its start date >= cutoff\n",
    "for ccn, idxs in long.groupby(\"cms_certification_number\").groups.items():\n",
    "    first_i = min(idxs)\n",
    "    d = long.loc[first_i, \"date\"]\n",
    "    if pd.notna(d) and d >= CUTOFF_DATE:\n",
    "        long.loc[first_i, \"is_chow\"] = True\n",
    "\n",
    "# Subsequent groups: turnover rule (>= THRESH), date >= cutoff, and (optionally) no surname overlap\n",
    "mask = (long[\"turnover\"] >= THRESH) & (long[\"date\"] >= CUTOFF_DATE)\n",
    "if USE_SURNAME_OVERRIDE:\n",
    "    mask &= ~long[\"surname_overlap_prev\"]\n",
    "long.loc[mask, \"is_chow\"] = True\n",
    "\n",
    "# ChOW date = group date when flagged\n",
    "long[\"chow_date\"] = pd.NaT\n",
    "long.loc[long[\"is_chow\"], \"chow_date\"] = long.loc[long[\"is_chow\"], \"date\"]\n",
    "\n",
    "print(f\"[chow] groups flagged: {long['is_chow'].sum():,}\")"
   ]
  },
  {
   "cell_type": "code",
   "execution_count": 35,
   "id": "4748f7c0-7a4c-48eb-aba7-bb7ad2de69c1",
   "metadata": {},
   "outputs": [
    {
     "name": "stdout",
     "output_type": "stream",
     "text": [
      "[final] 13,893 rows × 82 cols.\n"
     ]
    },
    {
     "name": "stderr",
     "output_type": "stream",
     "text": [
      "C:\\Users\\wrthj\\AppData\\Local\\Temp\\ipykernel_28888\\540669678.py:4: FutureWarning: Downcasting object dtype arrays on .fillna, .ffill, .bfill is deprecated and will change in a future version. Call result.infer_objects(copy=False) instead. To opt-in to the future behavior, set `pd.set_option('future.no_silent_downcasting', True)`\n",
      "  w_is = long.pivot(index=\"cms_certification_number\", columns=\"grp_n\", values=\"is_chow\").fillna(False)\n"
     ]
    }
   ],
   "source": [
    "# =============================================================================\n",
    "# LONG → WIDE FLAGS\n",
    "# =============================================================================\n",
    "w_is = long.pivot(index=\"cms_certification_number\", columns=\"grp_n\", values=\"is_chow\").fillna(False)\n",
    "w_is.columns = [f\"group{n}_is_chow\" for n in w_is.columns]\n",
    "w_is = w_is.replace({True:\"Yes\", False:\"\"})\n",
    "\n",
    "w_cd = long.pivot(index=\"cms_certification_number\", columns=\"grp_n\", values=\"chow_date\")\n",
    "w_cd.columns = [f\"group{n}_chow_date\" for n in w_cd.columns]\n",
    "\n",
    "# combine\n",
    "sig_chow = (\n",
    "    sig.set_index(\"cms_certification_number\")\n",
    "       .join(w_is, how=\"left\")\n",
    "       .join(w_cd, how=\"left\")\n",
    "       .reset_index()\n",
    ")\n",
    "\n",
    "# order columns: CCN, provider_name, then group blocks\n",
    "def ordered_group_cols(sig_df, group_nums):\n",
    "    cols = [\"cms_certification_number\", \"provider_name\"]\n",
    "    for n in group_nums:\n",
    "        cols += [f\"group{n}_owners\", f\"group{n}_pcts\", f\"group{n}_date\",\n",
    "                 f\"group{n}_is_chow\", f\"group{n}_chow_date\"]\n",
    "    return cols\n",
    "\n",
    "sig_chow = sig_chow[ordered_group_cols(sig_chow, group_nums)]\n",
    "print(f\"[final] {sig_chow.shape[0]:,} rows × {sig_chow.shape[1]} cols.\")"
   ]
  },
  {
   "cell_type": "code",
   "execution_count": 24,
   "id": "87dad5e5-c0bc-4f68-bd1a-41d21448ec5f",
   "metadata": {},
   "outputs": [
    {
     "name": "stdout",
     "output_type": "stream",
     "text": [
      "[final] facility_signatures_groupflags shape: (13893, 82)\n"
     ]
    }
   ],
   "source": [
    "# ------------------------------------------------------------------\n",
    "# 8. Merge onto original signature-wide (sig)\n",
    "# ------------------------------------------------------------------\n",
    "sig_chow = (\n",
    "    sig.set_index(\"cms_certification_number\")\n",
    "       .join(w_is, how=\"left\")\n",
    "       .join(w_cd, how=\"left\")\n",
    "       .reset_index()\n",
    ")\n",
    "\n",
    "# reorder: CCN, provider_name, then for each group: owners/pcts/date/is_chow/chow_date\n",
    "def ordered_group_cols(sig_df):\n",
    "    # detect group nums again (in case some were missing in join)\n",
    "    grp_nums = sorted(int(re.search(r\"group(\\d+)_owners$\", c).group(1))\n",
    "                      for c in sig_df.columns if re.search(r\"group(\\d+)_owners$\", c))\n",
    "    cols = [\"cms_certification_number\", \"provider_name\"]\n",
    "    for n in grp_nums:\n",
    "        cols += [f\"group{n}_owners\", f\"group{n}_pcts\", f\"group{n}_date\",\n",
    "                 f\"group{n}_is_chow\", f\"group{n}_chow_date\"]\n",
    "    return cols\n",
    "\n",
    "cols = ordered_group_cols(sig_chow)\n",
    "sig_chow = sig_chow[cols]\n",
    "\n",
    "print(f\"[final] facility_signatures_groupflags shape: {sig_chow.shape}\")"
   ]
  },
  {
   "cell_type": "code",
   "execution_count": 36,
   "id": "28562fa6-1c61-40d6-a8ee-c2328669c4ae",
   "metadata": {},
   "outputs": [
    {
     "name": "stdout",
     "output_type": "stream",
     "text": [
      "[save] wrote C:\\Users\\wrthj\\OneDrive\\Documents\\Honors_Thesis\\data\\data\\facility_signatures_groupflags.csv\n"
     ]
    }
   ],
   "source": [
    "# ------------------------------------------------------------------\n",
    "# 9. SAVE\n",
    "# ------------------------------------------------------------------\n",
    "sig_chow.to_csv(OUT_PATH, index=False)\n",
    "print(f\"[save] wrote {OUT_PATH}\")"
   ]
  }
 ],
 "metadata": {
  "kernelspec": {
   "display_name": "Python 3 (ipykernel)",
   "language": "python",
   "name": "python3"
  },
  "language_info": {
   "codemirror_mode": {
    "name": "ipython",
    "version": 3
   },
   "file_extension": ".py",
   "mimetype": "text/x-python",
   "name": "python",
   "nbconvert_exporter": "python",
   "pygments_lexer": "ipython3",
   "version": "3.13.2"
  }
 },
 "nbformat": 4,
 "nbformat_minor": 5
}

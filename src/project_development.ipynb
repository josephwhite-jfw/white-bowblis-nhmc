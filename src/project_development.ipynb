{
 "cells": [
  {
   "cell_type": "code",
   "execution_count": null,
   "id": "ee565902-0584-4973-93e8-d43651f1d7ea",
   "metadata": {
    "scrolled": true
   },
   "outputs": [
    {
     "name": "stdout",
     "output_type": "stream",
     "text": [
      "[paths] NH_ZIP_DIR=C:\\Users\\wrthj\\OneDrive\\NursingHomeData\\nh-compare\n",
      "[paths] PROV_DIR  =C:\\Users\\wrthj\\OneDrive\\NursingHomeData\\provider-info-files\n",
      "[save] provider_info_2017_01.csv  rows=15,652\n",
      "[save] provider_info_2017_02.csv  rows=15,655\n",
      "[save] provider_info_2017_03.csv  rows=15,664\n",
      "[save] provider_info_2017_04.csv  rows=15,659\n",
      "[save] provider_info_2017_05.csv  rows=15,662\n",
      "[save] provider_info_2017_06.csv  rows=15,667\n",
      "[save] provider_info_2017_08.csv  rows=15,672\n",
      "[save] provider_info_2017_07.csv  rows=15,676\n",
      "[save] provider_info_2017_09.csv  rows=15,661\n",
      "[save] provider_info_2017_10.csv  rows=15,660\n",
      "[save] provider_info_2017_11.csv  rows=15,654\n",
      "[save] provider_info_2017_12.csv  rows=15,646\n",
      "[save] provider_info_2018_01.csv  rows=15,646\n",
      "[save] provider_info_2018_02.csv  rows=15,650\n",
      "[save] provider_info_2018_03.csv  rows=15,647\n",
      "[save] provider_info_2018_04.csv  rows=15,636\n",
      "[save] provider_info_2018_05.csv  rows=15,630\n",
      "[save] provider_info_2018_06.csv  rows=15,630\n",
      "[save] provider_info_2018_07.csv  rows=15,616\n",
      "[save] provider_info_2018_08.csv  rows=15,606\n",
      "[save] provider_info_2018_09.csv  rows=15,611\n",
      "[save] provider_info_2018_10.csv  rows=15,613\n",
      "[save] provider_info_2018_11.csv  rows=15,600\n",
      "[save] provider_info_2018_12.csv  rows=15,596\n",
      "[save] provider_info_2019_01.csv  rows=15,578\n",
      "[save] provider_info_2019_02.csv  rows=15,579\n",
      "[save] provider_info_2019_03.csv  rows=15,580\n",
      "[save] provider_info_2019_04.csv  rows=15,563\n",
      "[save] provider_info_2019_05.csv  rows=15,538\n",
      "[save] provider_info_2019_06.csv  rows=15,527\n",
      "[save] provider_info_2019_07.csv  rows=15,530\n",
      "[save] provider_info_2019_08.csv  rows=15,512\n",
      "[save] provider_info_2019_09.csv  rows=15,511\n",
      "[save] provider_info_2019_10.csv  rows=15,390\n",
      "[save] provider_info_2019_12.csv  rows=15,471\n",
      "[save] provider_info_2020_01.csv  rows=15,454\n",
      "[save] provider_info_2020_02.csv  rows=15,450\n",
      "[save] provider_info_2020_03.csv  rows=15,446\n"
     ]
    }
   ],
   "source": [
    "%run 01_clean_provider.py"
   ]
  },
  {
   "cell_type": "code",
   "execution_count": null,
   "id": "173c624c-1822-4f61-a808-77e4ada5803c",
   "metadata": {
    "scrolled": true
   },
   "outputs": [],
   "source": [
    "%run 02_clean_ownership.py"
   ]
  },
  {
   "cell_type": "code",
   "execution_count": null,
   "id": "cf9dcb31-be7c-41d2-a15d-6c5ef907adec",
   "metadata": {
    "scrolled": true
   },
   "outputs": [],
   "source": [
    "%run 03_clean_pbj.py"
   ]
  },
  {
   "cell_type": "code",
   "execution_count": null,
   "id": "c1e0b5de-9bab-4e7a-b306-12c9a701990e",
   "metadata": {
    "scrolled": true
   },
   "outputs": [],
   "source": [
    "%run 04_calculate_chow.py"
   ]
  },
  {
   "cell_type": "code",
   "execution_count": null,
   "id": "26f9e9ef-37ab-4c3e-9d9c-f8823a3a8529",
   "metadata": {
    "scrolled": true
   },
   "outputs": [],
   "source": [
    "%run 05_cross_section.py"
   ]
  },
  {
   "cell_type": "code",
   "execution_count": null,
   "id": "17b98c03-5edb-4ead-b1dd-fd1aacdd0df6",
   "metadata": {
    "scrolled": true
   },
   "outputs": [],
   "source": [
    "%run 06_create_panel.py"
   ]
  }
 ],
 "metadata": {
  "kernelspec": {
   "display_name": "Python 3 (ipykernel)",
   "language": "python",
   "name": "python3"
  },
  "language_info": {
   "codemirror_mode": {
    "name": "ipython",
    "version": 3
   },
   "file_extension": ".py",
   "mimetype": "text/x-python",
   "name": "python",
   "nbconvert_exporter": "python",
   "pygments_lexer": "ipython3",
   "version": "3.13.2"
  }
 },
 "nbformat": 4,
 "nbformat_minor": 5
}

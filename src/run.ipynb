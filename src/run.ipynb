{
 "cells": [
  {
   "cell_type": "code",
   "execution_count": 1,
   "id": "5c95e806-8934-465f-87f6-7a78fb4efa54",
   "metadata": {},
   "outputs": [
    {
     "name": "stdout",
     "output_type": "stream",
     "text": [
      "[config] RAW = C:\\Users\\Owner\\OneDrive\\NursingHomeData\n"
     ]
    }
   ],
   "source": [
    "%run config.py"
   ]
  },
  {
   "cell_type": "code",
   "execution_count": 24,
   "id": "b17415a8-8b28-4a50-8283-7c30853f5662",
   "metadata": {},
   "outputs": [
    {
     "name": "stdout",
     "output_type": "stream",
     "text": [
      "[provider] combined rows=1,543,740 CCNs=16,405 → C:\\Users\\Owner\\OneDrive\\NursingHomeData\\provider-info-files\\provider_info_combined.csv\n",
      "[hospital] panel rows=62,397 latest CCNs=1,066\n"
     ]
    }
   ],
   "source": [
    "%run 01_provider_info_pipeline.py"
   ]
  },
  {
   "cell_type": "code",
   "execution_count": 25,
   "id": "123c9787-9137-45eb-95a2-cb12e4dbb828",
   "metadata": {},
   "outputs": [
    {
     "name": "stdout",
     "output_type": "stream",
     "text": [
      "[MCR] using SAS files.\n",
      "[MCR] monthly controls rows=1,510,717 CCNs=15,157 → C:\\Repositories\\white-bowblis-nhmc\\data\\clean\\mcr_controls_monthly.csv\n"
     ]
    }
   ],
   "source": [
    "%run 02_mcr_controls_pipeline.py"
   ]
  },
  {
   "cell_type": "code",
   "execution_count": 26,
   "id": "ed721e0a-849c-429f-a0ba-b49a816ba8be",
   "metadata": {},
   "outputs": [
    {
     "name": "stdout",
     "output_type": "stream",
     "text": [
      "[CHOW/OWN] events=8,092 → C:\\Repositories\\white-bowblis-nhmc\\data\\clean\\ownership_chow_events.csv\n",
      "[CHOW/MCR] events=2,031 → C:\\Repositories\\white-bowblis-nhmc\\data\\clean\\mcr_chow_events.csv\n",
      "[CHOW] overlap rows=8,092 → C:\\Repositories\\white-bowblis-nhmc\\data\\clean\\chow_overlap_agreement.csv\n"
     ]
    }
   ],
   "source": [
    "%run 03_chow_events_pipeline.py"
   ]
  },
  {
   "cell_type": "code",
   "execution_count": 6,
   "id": "2e1b810f-09ef-4ad5-89e7-2b388b5ffab4",
   "metadata": {},
   "outputs": [
    {
     "name": "stdout",
     "output_type": "stream",
     "text": [
      "[PBJ] Scanning raw under: C:\\Users\\Owner\\OneDrive\\NursingHomeData\\pbj-nurse\n",
      "[PBJ] Found 33 CSV(s)\n",
      "       First few CSV names:\n",
      "        - pbj_nurse_2017_Q1.csv\n",
      "        - pbj_nurse_2017_Q2.csv\n",
      "        - pbj_nurse_2017_Q3.csv\n",
      "        - pbj_nurse_2017_Q4.csv\n",
      "        - pbj_nurse_2018_Q1.csv\n",
      "        - pbj_nurse_2018_Q2.csv\n",
      "[ok] pbj_nurse_2017_Q1.csv: 41,787 monthly rows\n",
      "[ok] pbj_nurse_2017_Q2.csv: 41,952 monthly rows\n",
      "[ok] pbj_nurse_2017_Q3.csv: 43,431 monthly rows\n",
      "[ok] pbj_nurse_2017_Q4.csv: 42,426 monthly rows\n",
      "[ok] pbj_nurse_2018_Q1.csv: 44,031 monthly rows\n",
      "[ok] pbj_nurse_2018_Q2.csv: 43,986 monthly rows\n",
      "[ok] pbj_nurse_2018_Q3.csv: 44,613 monthly rows\n",
      "[ok] pbj_nurse_2018_Q4.csv: 44,748 monthly rows\n",
      "[ok] pbj_nurse_2019_Q1.csv: 45,174 monthly rows\n",
      "[ok] pbj_nurse_2019_Q2.csv: 45,060 monthly rows\n",
      "[ok] pbj_nurse_2019_Q3.csv: 44,949 monthly rows\n",
      "[ok] pbj_nurse_2019_Q4.csv: 44,907 monthly rows\n",
      "[ok] pbj_nurse_2020_Q1.csv: 36,402 monthly rows\n",
      "[ok] pbj_nurse_2020_Q2.csv: 44,289 monthly rows\n",
      "[ok] pbj_nurse_2020_Q3.csv: 44,346 monthly rows\n",
      "[ok] pbj_nurse_2020_Q4.csv: 44,064 monthly rows\n",
      "[ok] pbj_nurse_2021_Q1.csv: 44,571 monthly rows\n",
      "[ok] pbj_nurse_2021_Q2.csv: 44,436 monthly rows\n",
      "[ok] pbj_nurse_2021_Q3.csv: 44,418 monthly rows\n",
      "[ok] pbj_nurse_2021_Q4.csv: 43,881 monthly rows\n",
      "[ok] pbj_nurse_2022_Q1.csv: 44,256 monthly rows\n",
      "[ok] pbj_nurse_2022_Q2.csv: 44,082 monthly rows\n",
      "[ok] pbj_nurse_2022_Q3.csv: 44,064 monthly rows\n",
      "[ok] pbj_nurse_2022_Q4.csv: 44,109 monthly rows\n",
      "[ok] pbj_nurse_2023_Q1.csv: 44,097 monthly rows\n",
      "[ok] pbj_nurse_2023_Q2.csv: 43,785 monthly rows\n",
      "[ok] pbj_nurse_2023_Q3.csv: 43,833 monthly rows\n",
      "[ok] pbj_nurse_2023_Q4.csv: 43,827 monthly rows\n",
      "[ok] pbj_nurse_2024_Q1.csv: 43,878 monthly rows\n",
      "[ok] pbj_nurse_2024_Q2.csv: 43,692 monthly rows\n",
      "[ok] pbj_nurse_2024_Q3.csv: 43,644 monthly rows\n",
      "[ok] pbj_nurse_2024_Q4.csv: 43,719 monthly rows\n",
      "[ok] pbj_nurse_2025_Q1.csv: 43,653 monthly rows\n",
      "[PBJ] monthly built rows=1,444,110, CCNs=16,119 → C:\\Repositories\\white-bowblis-nhmc\\data\\clean\\pbj_monthly_panel.csv\n"
     ]
    }
   ],
   "source": [
    "%run 04_pbj_monthly_pipeline.py"
   ]
  },
  {
   "cell_type": "code",
   "execution_count": 11,
   "id": "aed51f4c-e00d-445e-bda3-b3344965fbd4",
   "metadata": {},
   "outputs": [
    {
     "name": "stdout",
     "output_type": "stream",
     "text": [
      "[PBJ] rows=1,444,110 CCNs=16,119\n",
      "[hospital filter] CCNs 16,119 -> 15,103\n",
      "[PBJ (post hospital filter)] rows=1,365,117 CCNs=15,103\n",
      "[agreement] counts: {'match_0': 8092}\n",
      "[agreement] non-null change_month CCNs: 0\n",
      "[warn] agreement has 4,357 duplicate rows on ['cms_certification_number']. De-duplicating by keeping first.\n",
      "[merge] after agree: rows=1,365,117\n",
      "[merge] controls: 1,365,117 -> 1,365,117\n",
      "[merge] provider-info: 1,365,117 -> 1,365,117\n",
      "[final] C:\\Repositories\\white-bowblis-nhmc\\data\\clean\\pbj_panel_with_chow_dummies.csv rows=1,365,117 cols=39\n",
      "[final] unique (CCN,month) ✓\n"
     ]
    }
   ],
   "source": [
    "%run 05_build_final_panel.py"
   ]
  },
  {
   "cell_type": "code",
   "execution_count": null,
   "id": "51237bf7-9d87-4739-97b9-b014c4d477ec",
   "metadata": {},
   "outputs": [],
   "source": []
  }
 ],
 "metadata": {
  "kernelspec": {
   "display_name": "Python [conda env:base] *",
   "language": "python",
   "name": "conda-base-py"
  },
  "language_info": {
   "codemirror_mode": {
    "name": "ipython",
    "version": 3
   },
   "file_extension": ".py",
   "mimetype": "text/x-python",
   "name": "python",
   "nbconvert_exporter": "python",
   "pygments_lexer": "ipython3",
   "version": "3.12.3"
  }
 },
 "nbformat": 4,
 "nbformat_minor": 5
}
